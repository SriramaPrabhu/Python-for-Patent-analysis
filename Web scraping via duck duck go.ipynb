{
 "cells": [
  {
   "cell_type": "code",
   "execution_count": 2,
   "id": "f085b8bb",
   "metadata": {},
   "outputs": [
    {
     "name": "stdout",
     "output_type": "stream",
     "text": [
      "30\n",
      "None https://patents.google.com/patent/US8859047B2/en <div class=\"abstract\" num=\"p-0001\">Disclosed are atomic layer deposition methods using ruthenium-containing precursors to form ruthenium-containing films for use in the manufacture of semiconductor, photovoltaic, LCD-TFT, or flat panel type devices.</div> ----------------------------\n",
      "None https://patents.google.com/patent/US20110256721A1/en <div class=\"abstract\" id=\"p-0001\" num=\"0000\">Disclosed are ruthenium-containing precursors and methods of using the same in CVD and ALD.</div> ----------------------------\n",
      "None https://patents.google.com/patent/US8663735B2/en <div class=\"abstract\" num=\"p-0001\">Apparatus and method for generating ruthenium tetraoxide in situ for use in vapor deposition, e.g., atomic layer deposition (ALD), of ruthenium-containing films on microelectronic device substrates. The ruthenium tetraoxide can be generated on demand by reaction of ruthenium or ruthenium dioxide with an oxic gas such as oxygen or ozone. In one implementation, ruthenium tetraoxide thus generated is utilized with a strontium organometallic precursor for atomic layer deposition of strontium ruthenate films of extremely high smoothness and purity.</div> ----------------------------\n",
      "None https://patents.google.com/patent/US8357614B2/en <div class=\"abstract\" num=\"p-0001\">Disclosed are ruthenium-containing precursors and methods of using the same in CVD and ALD.</div> ----------------------------\n",
      "None https://patents.google.com/patent/EP1887102A1/en <div class=\"abstract\" num=\"pa01\">Ruthenium containing precursors for ruthenium containing films deposition comprising a ruthenium precursor selected from the group consisting of: Ru(XOp)(XCp), Ru(XOp)<sub>2</sub>, Ru(allyl)<sub>3</sub>, RuX(allyl)<sub>2</sub>, RuX<sub>2</sub>(allyl)<sub>2</sub>, Ru(CO)<sub>X</sub>(amidinate)<sub>Y</sub>, Ru(diketonate)<sub>2</sub>X<sub>2</sub>, Ru(diketonate)<sub>2</sub>(amidinate)<sub>2</sub>, their derivatives and any mixture thereof.</div> ----------------------------\n",
      "None https://patents.google.com/patent/US20080107812A1/en <div class=\"abstract\" id=\"p-0001\" num=\"0000\">Ruthenium containing precursors for ruthenium containing films deposition comprising a ruthenium precursor selected from the group essentially consisting of Ru(XOp)(XCp), Ru(XOp)<sub>2</sub>, Ru(allyl)<sub>3</sub>, RuX(allyl)<sub>2</sub>, RuX<sub>2</sub>(allyl)<sub>2</sub>, Ru(CO)<sub>x</sub>(amidinate)<sub>y</sub>, Ru(diketonate)<sub>2</sub>X<sub>2 </sub>Ru(diketonate)<sub>2 </sub>(amidinate)<sub>2</sub>, their derivatives, and any mixture thereof. </div> ----------------------------\n",
      "None https://patents.google.com/patent/US7807223B2/en <div class=\"abstract\" num=\"p-0001\">Ruthenium containing precursors for ruthenium containing films deposition comprising a ruthenium precursor selected from the group essentially consisting of Ru(XOp)(XCp), Ru(XOp)<sub>2</sub>, Ru(allyl)<sub>3</sub>, RuX(allyl)<sub>2</sub>, RuX<sub>2</sub>(allyl)<sub>2</sub>, Ru(CO)<sub>x</sub>(amidinate)<sub>y</sub>, Ru(diketonate)<sub>2</sub>X<sub>2</sub>Ru(diketonate)<sub>2</sub>(amidinate)<sub>2</sub>, their derivatives, and any mixture thereof.</div> ----------------------------\n",
      "None https://patents.google.com/patent/KR20140131219A/en <div class=\"abstract\">The present invention relates to a ruthenium precursor represented by Chemical formula 1. The ruthenium precursor: has excellent thermal stability and increased volatility; does not use oxygen during a thin film deposition process; and thus can form a ruthenium thin film with high quality. In Chemical formula 1, R1 to R16 are independently hydrogen; otherwise, R1 to R16 are independently linear alkyl groups or branched alkyl groups.</div> ----------------------------\n",
      "None https://patents.google.com/patent/JP2008069453A/en <div class=\"abstract\">&lt;P&gt;PROBLEM TO BE SOLVED: To provide ruthenium precursors solving such a problem that: the conventional ruthenium film has poor adhesion to a substrate; impurities increasing the resistivity of the film remains in the film; the ruthenium precursor has low vapor pressure; an underlying layer is partially oxidized when oxygen is used as a co-reactant; and so on.  &lt;P&gt;SOLUTION: Ruthenium-containing precursors for ruthenium-containing films deposition comprises a ruthenium precursor selected from the group consisting mainly of: Ru(XOp)(XCp), Ru(XOp)&lt;SB&gt;2&lt;/SB&gt;, Ru(allyl)&lt;SB&gt;3&lt;/SB&gt;, RuX(allyl)&lt;SB&gt;2&lt;/SB&gt;, RuX&lt;SB&gt;2&lt;/SB&gt;(allyl)&lt;SB&gt;2&lt;/SB&gt;, Ru(CO)&lt;SB&gt;x&lt;/SB&gt;(amidinate)&lt;SB&gt;y&lt;/SB&gt;, Ru(diketonate)&lt;SB&gt;2&lt;/SB&gt;(amidinate)&lt;SB&gt;2&lt;/SB&gt;, their derivatives and any mixture thereof.  &lt;P&gt;COPYRIGHT: (C)2008,JPO&amp;INPIT  </div> ----------------------------\n",
      "None https://patents.google.com/patent/KR20080013802A/en <div class=\"abstract\">Ruthenium precursors for ruthenium-containing film deposition selected from the group comprising Ru(XOp)(XCp), Ru(XOp)2, Ru(allyl)3, RuX(allyl)2, RuX2(allyl)2, Ru(CO)x(amidinate)Y, Ru(diketonate)2X2, Ru(diketonate)2(amidinate)2, their derivatives and any mixture thereof are provided to solve several problems generated when depositing a Ru or RuO2 layer or film on a substrate. Ruthenium containing precursors for ruthenium-containing films deposition comprises a ruthenium precursor selected from the group essentially consisting of Ru(XOp)(XCp), Ru(XOp)2, Ru(allyl)3, RuX(allyl)2, RuX2(allyl)2, Ru(CO)x(amidinate)Y, Ru(diketonate)2X2 Ru(diketonate)2(amidinate)2, their derivatives and any mixture thereof. As a method for depositing a ruthenium-containing film onto a substrate in a reactor, the method comprises the steps of: providing a substrate into the reactor preferably at reaction temperature; introducing at least one ruthenium-containing precursor into the reactor; introducing into the reactor a gas mixture comprising hydrogen and/or oxygen; reacting the ruthenium-containing precursor with the gas or gas mixture to deposit a ruthenium-containing film onto the substrate.</div> ----------------------------\n",
      "None https://patents.google.com/patent/CN101122010A/en <div class=\"abstract\">Ruthenium containing precursors for ruthenium containing films deposition comprising a ruthenium precursor selected from the group consisting of: Ru(XOp)(XCp), Ru(XOp) 2 , Ru(allyl) 3 , RuX(allyl) 2 , RuX 2 (allyl) 2 , Ru(CO) X (amidinate) Y , Ru(diketonate) 2 X 2 , Ru(diketonate) 2 (amidinate) 2 , their derivatives and any mixture thereof.</div> ----------------------------\n",
      "None https://patents.google.com/patent/WO2009146423A1/en <div class=\"abstract\">A method of forming ruthenium-containing films by atomic layer deposition is provided. The method comprises delivering at least one precursor to a substrate, the at least one precursor corresponding in structure to Formula I: (L)Ru(CO)<sub>3</sub> wherein L is selected from the group consisting of a linear or branched C<sub>2</sub>-C<sub>6</sub>-alkenyl and a linear or branched C<sub>1</sub>-<sub>6</sub>-alkyl; and wherein L is optionally substituted with one or more substituents independently selected from the group consisting of C<sub>2</sub>-C<sub>6</sub>-alkenyl, C<sub>1</sub>-<sub>6</sub>-alkyl, alkoxy and NR<sup>1</sup>R<sup>2</sup>; wherein R<sup>1</sup> and R<sup>2</sup> are independently alkyl or hydrogen.</div> ----------------------------\n",
      "None https://patents.google.com/patent/US8753718B2/en <div class=\"abstract\" num=\"p-0001\">The invention concerns the use of the ruthenium-containing precursor having the formula\n",
      "<br/>\n",
      "(R<sub>n</sub>-chd)Ru(CO)<sub>3</sub>,\n",
      "<br/>\n",
      "wherein:\n",
      "</div> ----------------------------\n",
      "None https://patents.google.com/patent/US20110165780A1/en <div class=\"abstract\" id=\"p-0001\" num=\"0000\">A method of forming ruthenium-containing films by atomic layer deposition is provided. The method comprises delivering at least one precursor to a substrate, the at least one precursor corresponding in structure to Formula I: (L)Ru(CO)<sub>3 </sub>wherein L is selected from the group consisting of a linear or branched C<sub>2</sub>-C<sub>6</sub>-alkenyl and a linear or branched C<sub>1-6</sub>-alkyl; and wherein L is optionally substituted with one or more substituents independently selected from the group consisting of C<sub>2</sub>-C<sub>6</sub>-alkenyl, C<sub>1-6</sub>-alkyl, alkoxy and NR<sup>1</sup>R<sup>2</sup>; wherein R<sup>1 </sup>and R<sup>2 </sup>are independently alkyl or hydrogen.</div> ----------------------------\n",
      "None https://patents.google.com/patent/US8404306B2/en <div class=\"abstract\" id=\"p-0001\" num=\"0000\">The invention concerns the use of the ruthenium containing precursor having the formula\n",
      "<br/>\n",
      "(R<sub>n</sub>-chd)Ru(CO)<sub>3</sub>,\n",
      "<br/>\n",
      "wherein:\n",
      "</div> ----------------------------\n",
      "None https://patents.google.com/patent/WO2020101974A1/en <div class=\"abstract\" num=\"0000\">Plasma enhanced atomic layer deposition (PEALD) processes which use a ruthenium precursor of formula R<sup>A</sup>R<sup>B</sup>Ru(0), wherein R<sup>A</sup> is an aryl group-containing ligand, and R<sup>B</sup> is a diene group-containing ligand, along with a reducing plasma applied at greater than 200W are described. Use of the R<sup>A</sup>R<sup>B</sup>Ru(0) ruthenium precursors in PEALD with +200W reducing plasma such as ammonia plasma, can provide very good rates of deposition of Ru, have lower carbon and less resistivity, and provide very dense Ru films. The method can be used to form well-formed Ru film with high conformality on integrated circuits and other microelectronic devices.</div> ----------------------------\n",
      "None https://patents.google.com/patent/US9416443B2/en <div class=\"abstract\" id=\"p-0001\" num=\"0000\">The invention concerns the use of ruthenium containing precursors having the formula (1) wherein R1, R2 . . . R10 are independently selected from H, C1-C4 linear, branched, or cyclic alkyl group, C1-C4 linear, branched, or cyclic alkylsilyl group (mono, bis, or trisalkyl), C1-C4 linear, branched, or cyclic alkylamino group, or a C1-C4 linear, branched, or cyclic fluoroalkyl group (totally fluorinated or not); for the deposition of a Ru containing film on a substrate.</div> ----------------------------\n",
      "None https://patents.google.com/patent/WO2000012776A1/en <div class=\"abstract\">A method is provided for forming a film (18) of ruthenium or ruthenium oxide on the surface of a substrate (6) by employing the techniques of chemical vapor deposition to decompose precursors of ruthenium having the formula: LyRuXz where L is a neutral or monoanionic ligand selected from the group consisting essentially of linear, branched, or cyclic hydrocarbyls, cyclic alkenes, dienes, cyclic dienes, trienes, cyclic trienes, bicyclic alkenes, bicyclic trienes, tricyclic alkenes, tricyclic dienes, tricyclic trienes; fluorinated derivatives thereof; derivatives thereof additionally containing heteroatoms such as halide, Si, S, Se, P, As, N or O; and combinations thereof; where X is a pi-bonding ligand selected from the group consisting of CO, NO, CN, CS, nitriles, isonitriles, trialkylphosphines, trialkylphosphites, trialkylamines, and isocyanide, and where subscripts y and z have a value from 1 to three 3; or L1Ru(CO)4 where L is a neutral or monoanionic ligand selected from the group including linear, branched, or cyclic hydrocarbyls, cyclic alkenes, dienes, cyclic dienes, trienes, cyclic trienes, bicyclic dienes, and bicyclic trienes.</div> ----------------------------\n",
      "None https://patents.google.com/patent/WO2022243274A1/en <div class=\"abstract\">The disclosed and claimed subject matter relates to the use of Ru(I) precursors in ALD or ALD-like processes for the selective deposition of Ru films.</div> ----------------------------\n",
      "None https://patents.google.com/patent/TW200951241A/en <div class=\"abstract\">A method of forming ruthenium-containing films by atomic layer deposition is provided. The method comprises delivering at least one precursor to a substrate, the at least one precursor corresponding in structure to Formula I: (L)Ru(CO)3 (Formula I) wherein: L is an alkenyl or alkyl optionally substituted with one or more substituents independently selected from the group consisting of alkyl, alkenyl, alkoxy and NR1R2; and R1 and R2 are independently hydrogen or alkyl.</div> ----------------------------\n",
      "None https://patents.google.com/patent/WO2008034468A1/en <div class=\"abstract\">The invention concerns the use of the ruthenium containing precursor having the formula (Rn-chd) Ru(CO)3, wherein: - (Rn-chd) represents a cyclohexadiene (chd) ligand substituted with n substituents R, any R being in any position on the chd ligand; - n is an integer comprised between 1 and 8 (1 â¤ n â¤ 8) and represents the number of substituents on the chd ligand; - R is selected from the group consisting of C1-C4 linear or branched alkyls, alkylamides, alkoxides, alkylsilylamides, amidinates, carbonyl and/or fluoroalkyl for R being located in any of the eight avalaible position on the chd ligand, while R can also be oxygen O for substitution on the C positions in the chd cycle which are not involved in a double bond for the deposition of a Ru containing film on a substrate.</div> ----------------------------\n",
      "None https://patents.google.com/patent/KR20150101380A/en <div class=\"abstract\">A method for forming a ruthenium thin film by atomic layer deposition according to an embodiment of the present invention includes the following steps: supplying a precursor containing ruthenium to a substrate in a chamber; purging the precursor containing ruthenium from the chamber; supplying reaction gas to the substrate; and purging the reaction gas from the chamber. The reaction gas is reduction gas reducing the precursor containing ruthenium, and the formed ruthenium thin film has a crystalline structure.</div> ----------------------------\n",
      "None https://patents.google.com/patent/US20130089680A1/en <div class=\"abstract\" id=\"p-0001\" num=\"0000\">The present invention relates to a process for the use of Ruthenium amidinate metal precursors for the deposition of Ruthenium-containing films via Plasma Enhanced Atomic Layer Deposition (PEALD) or Plasma Enhanced Chemical Vapor Deposition (PECVD).</div> ----------------------------\n",
      "None https://patents.google.com/patent/KR20110014191A/en None ----------------------------\n",
      "None https://patents.google.com/patent/WO2018191183A1/en <div class=\"abstract\" num=\"0000\">Provided herein are low resistance metallization stack structures for logic and memory applications and related methods of fabrication. In some implementations, the methods involve providing a tungsten (W)-containing layer on a substrate; and depositing a molybdenum (Mo)-containing layer on the W-containing layer. In some implementations, the methods involve depositing a Mo-containing layer directly on a dielectric or titanium nitride (TiN) substrate without an intervening W-containing layer.</div> ----------------------------\n",
      "None https://patents.google.com/patent/US9536940B2/en <div class=\"abstract\" id=\"p-0001\" num=\"0000\">A method of forming a semiconductor structure. The method comprises forming a high-k dielectric material, forming a continuous interfacial material over the high-k dielectric material, and forming a conductive material over the continuous interfacial material. Additional methods and semiconductor structures are also disclosed.</div> ----------------------------\n",
      "None https://patents.google.com/patent/US20100018439A1/en <div class=\"abstract\" id=\"p-0001\" num=\"0000\">Precursors useful for vapor phase deposition processes, e.g., CVD/ALD, to form metal-containing films on substrates. The precursors include, in one class, a central metal atom M to which is coordinated at least one ligand of formula (I):</div> ----------------------------\n",
      "None https://patents.google.com/patent/WO2017143246A1/en <div class=\"abstract\" num=\"0000\">Transition metal precursors are disclosed herein along with methods of using these precursors to deposit metal thin films. Advantageous properties of these precursors and methods are also disclosed, as well as superior films that can be achieved with the precursors and methods.</div> ----------------------------\n",
      "None https://patents.google.com/patent/KR20070065376A/en <div class=\"abstract\">Precursor for ruthenium film deposition, comprising ruthenium tetroxide dissolved in at least one non-flammable solvent, preferably a fluorinated solvent having the general formula CxHyFzOtNu wherein: 2x+2y and t+u&gt;=1 (t+u preferably equal to 1) x, y, z, t and u being positive integers.</div> ----------------------------\n",
      "None https://patents.google.com/patent/KR101244972B1/en None ----------------------------\n"
     ]
    },
    {
     "ename": "IndexError",
     "evalue": "list index out of range",
     "output_type": "error",
     "traceback": [
      "\u001b[1;31m---------------------------------------------------------------------------\u001b[0m",
      "\u001b[1;31mIndexError\u001b[0m                                Traceback (most recent call last)",
      "\u001b[1;32m~\\AppData\\Local\\Temp\\ipykernel_21052\\1231606943.py\u001b[0m in \u001b[0;36m<module>\u001b[1;34m\u001b[0m\n\u001b[0;32m     17\u001b[0m \u001b[1;33m\u001b[0m\u001b[0m\n\u001b[0;32m     18\u001b[0m \u001b[1;32mfor\u001b[0m \u001b[0mx\u001b[0m \u001b[1;32min\u001b[0m \u001b[0mrange\u001b[0m\u001b[1;33m(\u001b[0m\u001b[1;36m0\u001b[0m\u001b[1;33m,\u001b[0m\u001b[0mn\u001b[0m\u001b[1;33m+\u001b[0m\u001b[1;36m1\u001b[0m\u001b[1;33m)\u001b[0m\u001b[1;33m:\u001b[0m \u001b[1;31m#creating a list of total number of index positions\u001b[0m\u001b[1;33m\u001b[0m\u001b[1;33m\u001b[0m\u001b[0m\n\u001b[1;32m---> 19\u001b[1;33m     \u001b[0minnerpage\u001b[0m\u001b[1;33m=\u001b[0m\u001b[0mrequests\u001b[0m\u001b[1;33m.\u001b[0m\u001b[0mget\u001b[0m\u001b[1;33m(\u001b[0m\u001b[0mlinks\u001b[0m\u001b[1;33m[\u001b[0m\u001b[0mx\u001b[0m\u001b[1;33m]\u001b[0m\u001b[1;33m)\u001b[0m\u001b[1;31m#entering into respective url\u001b[0m\u001b[1;33m\u001b[0m\u001b[1;33m\u001b[0m\u001b[0m\n\u001b[0m\u001b[0;32m     20\u001b[0m     \u001b[0msoup1\u001b[0m\u001b[1;33m=\u001b[0m\u001b[0mBeautifulSoup\u001b[0m\u001b[1;33m(\u001b[0m\u001b[0minnerpage\u001b[0m\u001b[1;33m.\u001b[0m\u001b[0mtext\u001b[0m\u001b[1;33m,\u001b[0m\u001b[1;34m'html.parser'\u001b[0m\u001b[1;33m)\u001b[0m \u001b[1;31m#parsing html content of link(x)\u001b[0m\u001b[1;33m\u001b[0m\u001b[1;33m\u001b[0m\u001b[0m\n\u001b[0;32m     21\u001b[0m     \u001b[0mprint\u001b[0m\u001b[1;33m(\u001b[0m\u001b[1;33m(\u001b[0m\u001b[0msoup1\u001b[0m\u001b[1;33m.\u001b[0m\u001b[0mfind\u001b[0m\u001b[1;33m(\u001b[0m\u001b[1;34m\"div\"\u001b[0m\u001b[1;33m,\u001b[0m\u001b[1;34m\"title\"\u001b[0m\u001b[1;33m)\u001b[0m\u001b[1;33m)\u001b[0m\u001b[1;33m,\u001b[0m\u001b[0mlinks\u001b[0m\u001b[1;33m[\u001b[0m\u001b[0mx\u001b[0m\u001b[1;33m]\u001b[0m\u001b[1;33m,\u001b[0m\u001b[1;33m(\u001b[0m\u001b[0msoup1\u001b[0m\u001b[1;33m.\u001b[0m\u001b[0mfind\u001b[0m\u001b[1;33m(\u001b[0m\u001b[1;34m\"div\"\u001b[0m\u001b[1;33m,\u001b[0m\u001b[1;34m\"abstract\"\u001b[0m\u001b[1;33m)\u001b[0m\u001b[1;33m)\u001b[0m\u001b[1;33m,\u001b[0m\u001b[1;34m\"----------------------------\"\u001b[0m\u001b[1;33m)\u001b[0m\u001b[1;33m\u001b[0m\u001b[1;33m\u001b[0m\u001b[0m\n",
      "\u001b[1;31mIndexError\u001b[0m: list index out of range"
     ]
    }
   ],
   "source": [
    "import requests\n",
    "from bs4 import BeautifulSoup\n",
    "from duckduckgo_search import ddg\n",
    "\n",
    "results=ddg(\"site:patents.google.com Ru-containing precursors AND DRAM\" )\n",
    "# print (results)\n",
    "\n",
    "links = []\n",
    "\n",
    "for every_dict in results:\n",
    "    href = every_dict['href']   \n",
    "    links.append(href)                    \n",
    "                         \n",
    "#print(Links)\n",
    "n=len(links)\n",
    "print(n)\n",
    "\n",
    "for x in range(0,n+1): #creating a list of total number of index positions\n",
    "    innerpage=requests.get(links[x])#entering into respective url\n",
    "    soup1=BeautifulSoup(innerpage.text,'html.parser') #parsing html content of link(x) \n",
    "    print((soup1.find(\"div\",\"title\")),links[x],(soup1.find(\"div\",\"abstract\")),\"----------------------------\")\n",
    "\n",
    "   "
   ]
  },
  {
   "cell_type": "code",
   "execution_count": null,
   "id": "b183196e",
   "metadata": {},
   "outputs": [],
   "source": []
  },
  {
   "cell_type": "code",
   "execution_count": null,
   "id": "a2f9ac2a",
   "metadata": {},
   "outputs": [],
   "source": []
  },
  {
   "cell_type": "code",
   "execution_count": null,
   "id": "da814c0f",
   "metadata": {},
   "outputs": [],
   "source": []
  },
  {
   "cell_type": "code",
   "execution_count": 41,
   "id": "2faf2926",
   "metadata": {},
   "outputs": [
    {
     "name": "stdout",
     "output_type": "stream",
     "text": [
      "28\n",
      "None https://patents.google.com/patent/KR20140131219A/en <div class=\"abstract\">ë³¸ ë°ëª",
      "ì ííì 1ë¡ íìëë ë£¨í",
      "ë ì êµ¬ì²´ì ê´í ê²ì¼ë¡, ìê¸° ë£¨í",
      "ë ì êµ¬ì²´ë ì´ì  ìì ì±ê³¼ íë°ì±ì´ í¥ìëê³ , ë°ë§ ì¦ì°© ì ì°ìë¥¼ ì¬ì©íì§ ììë ëë ì¥ì ì´ ìì´ ìì§ì ë£¨í",
      "ë ë°ë§ì íì±í  ì ìë¤.</div>\n"
     ]
    }
   ],
   "source": [
    "import requests\n",
    "from bs4 import BeautifulSoup\n",
    "from duckduckgo_search import ddg\n",
    "\n",
    "results=ddg(\"site:patents.google.com Ruthenium precursor AND TSV\" )\n",
    "# print (results)\n",
    "\n",
    "links = []\n",
    "\n",
    "for every_dict in results:\n",
    "    href = every_dict['href']   \n",
    "    links.append(href)                    \n",
    "                         \n",
    "#print(Links)\n",
    "n=len(links)\n",
    "print(n)\n",
    "\n",
    "#for x in range(0,n+1): #creating a list of total number of index positions\n",
    "innerpage=requests.get(links[0])#entering into respective url\n",
    "print(BeautifulSoup(innerpage.text,'html.parser'))\n",
    "print((soup1.find(\"head\",\"title\")),links[0],(soup1.find(\"div\",\"abstract\")))"
   ]
  },
  {
   "cell_type": "code",
   "execution_count": 60,
   "id": "ecd21b47",
   "metadata": {},
   "outputs": [
    {
     "ename": "TypeError",
     "evalue": "'module' object is not callable",
     "output_type": "error",
     "traceback": [
      "\u001b[1;31m---------------------------------------------------------------------------\u001b[0m",
      "\u001b[1;31mTypeError\u001b[0m                                 Traceback (most recent call last)",
      "\u001b[1;32m~\\AppData\\Local\\Temp\\ipykernel_19152\\1924249549.py\u001b[0m in \u001b[0;36m<module>\u001b[1;34m\u001b[0m\n\u001b[0;32m      4\u001b[0m \u001b[1;32mfrom\u001b[0m \u001b[0mopenpyxl\u001b[0m \u001b[1;32mimport\u001b[0m \u001b[0mworkbook\u001b[0m\u001b[1;33m\u001b[0m\u001b[1;33m\u001b[0m\u001b[0m\n\u001b[0;32m      5\u001b[0m \u001b[1;33m\u001b[0m\u001b[0m\n\u001b[1;32m----> 6\u001b[1;33m \u001b[0mwb\u001b[0m \u001b[1;33m=\u001b[0m \u001b[0mworkbook\u001b[0m\u001b[1;33m(\u001b[0m\u001b[1;33m)\u001b[0m\u001b[1;33m\u001b[0m\u001b[1;33m\u001b[0m\u001b[0m\n\u001b[0m\u001b[0;32m      7\u001b[0m \u001b[0mws\u001b[0m \u001b[1;33m=\u001b[0m \u001b[0mwb\u001b[0m\u001b[1;33m.\u001b[0m\u001b[0mactive\u001b[0m\u001b[1;33m\u001b[0m\u001b[1;33m\u001b[0m\u001b[0m\n\u001b[0;32m      8\u001b[0m \u001b[1;33m\u001b[0m\u001b[0m\n",
      "\u001b[1;31mTypeError\u001b[0m: 'module' object is not callable"
     ]
    }
   ],
   "source": [
    "import requests\n",
    "from bs4 import BeautifulSoup\n",
    "from duckduckgo_search import ddg\n",
    "from openpyxl import workbook\n",
    "\n",
    "\n",
    "#for bold and color text:\n",
    "class color:\n",
    "   PURPLE = '\\033[95m'\n",
    "   CYAN = '\\033[96m'\n",
    "   DARKCYAN = '\\033[36m'\n",
    "   BLUE = '\\033[94m'\n",
    "   GREEN = '\\033[92m'\n",
    "   YELLOW = '\\033[93m'\n",
    "   RED = '\\033[91m'\n",
    "   BOLD = '\\033[1m'\n",
    "   UNDERLINE = '\\033[4m'\n",
    "   END = '\\033[0m'\n",
    "\n",
    "\n",
    "rslts=ddg(\"site:patents.justia.com Ru containing precursor AND nm node AND DRAM\")\n",
    "links = []\n",
    "\n",
    "for every_dict in rslts:\n",
    "    href = every_dict['href']   \n",
    "    links.append(href)\n",
    "    \n",
    "#print(links)\n",
    "n=len(links)\n",
    "print(n)\n",
    "\n",
    "\n",
    "for x in range(0,n+1):\n",
    "    ip=requests.get(links[x])\n",
    "    soup2=BeautifulSoup(ip.text,'html.parser')\n",
    "    title=soup2.h1.text\n",
    "    abstract=soup2.p.text\n",
    "    c=str(x+1)\n",
    "    ws['A'+c] = title\n",
    "    ws['B'+c] = abstract\n",
    "    wb.save(\"sampleee.xlsx\")\n",
    "\n",
    "    print((color.BOLD + \"The title of the patent is: \" + color.END) + title + '\\n' + (color.BOLD + \"Abstract of the patent is \"+ color.END) + abstract)\n",
    "    print(\"-----------------------------------------------------------------------------------------\")"
   ]
  },
  {
   "cell_type": "code",
   "execution_count": null,
   "id": "4c197876",
   "metadata": {},
   "outputs": [],
   "source": []
  },
  {
   "cell_type": "code",
   "execution_count": null,
   "id": "43b73f2f",
   "metadata": {},
   "outputs": [],
   "source": []
  },
  {
   "cell_type": "code",
   "execution_count": null,
   "id": "acf5cf44",
   "metadata": {},
   "outputs": [],
   "source": []
  },
  {
   "cell_type": "code",
   "execution_count": null,
   "id": "39775ae7",
   "metadata": {},
   "outputs": [],
   "source": []
  },
  {
   "cell_type": "code",
   "execution_count": 58,
   "id": "41053b3e",
   "metadata": {},
   "outputs": [
    {
     "name": "stdout",
     "output_type": "stream",
     "text": [
      "A1 B1\n",
      "A2 B2\n",
      "A3 B3\n",
      "A4 B4\n",
      "A5 B5\n",
      "A6 B6\n",
      "A7 B7\n",
      "A8 B8\n",
      "A9 B9\n",
      "A10 B10\n"
     ]
    }
   ],
   "source": [
    "\n",
    "for x in range(0,10):\n",
    "    c=str(x+1)\n",
    "    a = 'A'+c\n",
    "    b = 'B'+c\n",
    "    print (a,b)\n"
   ]
  },
  {
   "cell_type": "code",
   "execution_count": null,
   "id": "6c2977b7",
   "metadata": {},
   "outputs": [],
   "source": []
  },
  {
   "cell_type": "code",
   "execution_count": null,
   "id": "76953ab6",
   "metadata": {},
   "outputs": [],
   "source": []
  },
  {
   "cell_type": "code",
   "execution_count": 48,
   "id": "25302d0c",
   "metadata": {},
   "outputs": [
    {
     "name": "stdout",
     "output_type": "stream",
     "text": [
      "29\n"
     ]
    },
    {
     "ename": "TypeError",
     "evalue": "can only concatenate str (not \"NoneType\") to str",
     "output_type": "error",
     "traceback": [
      "\u001b[1;31m---------------------------------------------------------------------------\u001b[0m",
      "\u001b[1;31mTypeError\u001b[0m                                 Traceback (most recent call last)",
      "\u001b[1;32m~\\AppData\\Local\\Temp\\ipykernel_21052\\2614389609.py\u001b[0m in \u001b[0;36m<module>\u001b[1;34m\u001b[0m\n\u001b[0;32m     44\u001b[0m \u001b[1;33m\u001b[0m\u001b[0m\n\u001b[0;32m     45\u001b[0m \u001b[1;33m\u001b[0m\u001b[0m\n\u001b[1;32m---> 46\u001b[1;33m     \u001b[0mprint\u001b[0m\u001b[1;33m(\u001b[0m\u001b[1;33m(\u001b[0m\u001b[0mcolor\u001b[0m\u001b[1;33m.\u001b[0m\u001b[0mBOLD\u001b[0m \u001b[1;33m+\u001b[0m \u001b[1;34m\"The title of the patent is: \"\u001b[0m \u001b[1;33m+\u001b[0m \u001b[0mcolor\u001b[0m\u001b[1;33m.\u001b[0m\u001b[0mEND\u001b[0m\u001b[1;33m)\u001b[0m \u001b[1;33m+\u001b[0m \u001b[0mtitle\u001b[0m \u001b[1;33m+\u001b[0m \u001b[1;34m'\\n'\u001b[0m \u001b[1;33m+\u001b[0m \u001b[1;33m(\u001b[0m\u001b[0mcolor\u001b[0m\u001b[1;33m.\u001b[0m\u001b[0mBOLD\u001b[0m \u001b[1;33m+\u001b[0m \u001b[1;34m\"Abstract of the patent is \"\u001b[0m\u001b[1;33m+\u001b[0m \u001b[0mcolor\u001b[0m\u001b[1;33m.\u001b[0m\u001b[0mEND\u001b[0m\u001b[1;33m)\u001b[0m \u001b[1;33m+\u001b[0m \u001b[0mabstract\u001b[0m \u001b[1;33m+\u001b[0m\u001b[1;34m'\\n'\u001b[0m \u001b[1;33m+\u001b[0m \u001b[1;33m(\u001b[0m\u001b[0mcolor\u001b[0m\u001b[1;33m.\u001b[0m\u001b[0mBOLD\u001b[0m \u001b[1;33m+\u001b[0m \u001b[1;34m\"Publication Date of the patent is \"\u001b[0m\u001b[1;33m+\u001b[0m \u001b[0mcolor\u001b[0m\u001b[1;33m.\u001b[0m\u001b[0mEND\u001b[0m\u001b[1;33m)\u001b[0m \u001b[1;33m+\u001b[0m \u001b[0mDate\u001b[0m \u001b[1;33m+\u001b[0m\u001b[1;34m'\\n'\u001b[0m \u001b[1;33m+\u001b[0m \u001b[1;33m(\u001b[0m\u001b[0mcolor\u001b[0m\u001b[1;33m.\u001b[0m\u001b[0mBOLD\u001b[0m \u001b[1;33m+\u001b[0m \u001b[1;34m\"Assignee of the patent is \"\u001b[0m\u001b[1;33m+\u001b[0m \u001b[0mcolor\u001b[0m\u001b[1;33m.\u001b[0m\u001b[0mEND\u001b[0m\u001b[1;33m)\u001b[0m \u001b[1;33m+\u001b[0m \u001b[0mAssignee\u001b[0m\u001b[1;33m)\u001b[0m\u001b[1;33m\u001b[0m\u001b[1;33m\u001b[0m\u001b[0m\n\u001b[0m\u001b[0;32m     47\u001b[0m     \u001b[0mprint\u001b[0m\u001b[1;33m(\u001b[0m\u001b[1;34m\"-----------------------------------------------------------------------------------------\"\u001b[0m\u001b[1;33m)\u001b[0m\u001b[1;33m\u001b[0m\u001b[1;33m\u001b[0m\u001b[0m\n",
      "\u001b[1;31mTypeError\u001b[0m: can only concatenate str (not \"NoneType\") to str"
     ]
    }
   ],
   "source": [
    "import requests\n",
    "from bs4 import BeautifulSoup\n",
    "from duckduckgo_search import ddg\n",
    "import pandas as pd\n",
    "\n",
    "\n",
    "#for bold and color text:\n",
    "class color:\n",
    "   PURPLE = '\\033[95m'\n",
    "   CYAN = '\\033[96m'\n",
    "   DARKCYAN = '\\033[36m'\n",
    "   BLUE = '\\033[94m'\n",
    "   GREEN = '\\033[92m'\n",
    "   YELLOW = '\\033[93m'\n",
    "   RED = '\\033[91m'\n",
    "   BOLD = '\\033[1m'\n",
    "   UNDERLINE = '\\033[4m'\n",
    "   END = '\\033[0m'\n",
    "\n",
    "\n",
    "rslts=ddg(\"site:patents.justia.com Ru-containing precursors AND nm node AND DRAM\")\n",
    "links = []\n",
    "\n",
    "for every_dict in rslts:\n",
    "    href = every_dict['href']   \n",
    "    links.append(href)\n",
    "    \n",
    "#print(links)\n",
    "n=len(links)\n",
    "print(n)\n",
    "\n",
    "for x in range(0,1):\n",
    "    ip=requests.get(links[x])\n",
    "    soup2=BeautifulSoup(ip.text,'html.parser')\n",
    "    \n",
    "    title=soup2.find('div','h1')\n",
    "    \n",
    "    abstract=soup2.find('div','abstract')\n",
    "    \n",
    "    Date=soup2.find('div','byline','time')\n",
    "    \n",
    "    Assignee=soup2.find('div','byline','href')\n",
    "\n",
    "    \n",
    "\n",
    "    print((color.BOLD + \"The title of the patent is: \" + color.END) + title + '\\n' + (color.BOLD + \"Abstract of the patent is \"+ color.END) + abstract +'\\n' + (color.BOLD + \"Publication Date of the patent is \"+ color.END) + Date +'\\n' + (color.BOLD + \"Assignee of the patent is \"+ color.END) + Assignee)\n",
    "    print(\"-----------------------------------------------------------------------------------------\")"
   ]
  },
  {
   "cell_type": "code",
   "execution_count": 74,
   "id": "bd0eb325",
   "metadata": {},
   "outputs": [
    {
     "name": "stdout",
     "output_type": "stream",
     "text": [
      "30\n"
     ]
    },
    {
     "ename": "AttributeError",
     "evalue": "'NoneType' object has no attribute 'text'",
     "output_type": "error",
     "traceback": [
      "\u001b[1;31m---------------------------------------------------------------------------\u001b[0m",
      "\u001b[1;31mAttributeError\u001b[0m                            Traceback (most recent call last)",
      "\u001b[1;32m~\\AppData\\Local\\Temp\\ipykernel_21052\\2262636133.py\u001b[0m in \u001b[0;36m<module>\u001b[1;34m\u001b[0m\n\u001b[0;32m     44\u001b[0m \u001b[1;33m\u001b[0m\u001b[0m\n\u001b[0;32m     45\u001b[0m \u001b[1;33m\u001b[0m\u001b[0m\n\u001b[1;32m---> 46\u001b[1;33m \u001b[0mprint\u001b[0m\u001b[1;33m(\u001b[0m\u001b[0mDate\u001b[0m\u001b[1;33m.\u001b[0m\u001b[0mtext\u001b[0m\u001b[1;33m)\u001b[0m\u001b[1;33m\u001b[0m\u001b[1;33m\u001b[0m\u001b[0m\n\u001b[0m",
      "\u001b[1;31mAttributeError\u001b[0m: 'NoneType' object has no attribute 'text'"
     ]
    }
   ],
   "source": [
    "import requests\n",
    "from bs4 import BeautifulSoup\n",
    "from duckduckgo_search import ddg\n",
    "import pandas as pd\n",
    "\n",
    "\n",
    "#for bold and color text:\n",
    "class color:\n",
    "   PURPLE = '\\033[95m'\n",
    "   CYAN = '\\033[96m'\n",
    "   DARKCYAN = '\\033[36m'\n",
    "   BLUE = '\\033[94m'\n",
    "   GREEN = '\\033[92m'\n",
    "   YELLOW = '\\033[93m'\n",
    "   RED = '\\033[91m'\n",
    "   BOLD = '\\033[1m'\n",
    "   UNDERLINE = '\\033[4m'\n",
    "   END = '\\033[0m'\n",
    "\n",
    "\n",
    "rslts=ddg(\"site:patents.justia.com Ru-containing precursors AND nm node AND DRAM\")\n",
    "links = []\n",
    "\n",
    "for every_dict in rslts:\n",
    "    href = every_dict['href']   \n",
    "    links.append(href)\n",
    "    \n",
    "#print(links)\n",
    "n=len(links)\n",
    "print(n)\n",
    "\n",
    "for x in range(0,1):\n",
    "    ip=requests.get(links[x])\n",
    "    soup2=BeautifulSoup(ip.text,'html.parser')\n",
    "    \n",
    "    title=soup2.find('h1')\n",
    "    \n",
    "    abstract=soup2.find('abstract')\n",
    "    \n",
    "    Date=soup2.find('byline','time')\n",
    "    \n",
    "    Assignee=soup2.find('byline','href')\n",
    "\n",
    "    \n",
    "\n",
    "print(Date.text)"
   ]
  },
  {
   "cell_type": "code",
   "execution_count": null,
   "id": "6df1288c",
   "metadata": {},
   "outputs": [],
   "source": []
  },
  {
   "cell_type": "code",
   "execution_count": null,
   "id": "f58d2fb5",
   "metadata": {},
   "outputs": [],
   "source": [
    "\n"
   ]
  },
  {
   "cell_type": "code",
   "execution_count": null,
   "id": "a24de88b",
   "metadata": {},
   "outputs": [],
   "source": []
  },
  {
   "cell_type": "code",
   "execution_count": null,
   "id": "cc888535",
   "metadata": {},
   "outputs": [],
   "source": []
  },
  {
   "cell_type": "code",
   "execution_count": null,
   "id": "a07f6015",
   "metadata": {},
   "outputs": [],
   "source": []
  },
  {
   "cell_type": "code",
   "execution_count": null,
   "id": "3f40a9ab",
   "metadata": {},
   "outputs": [],
   "source": []
  },
  {
   "cell_type": "code",
   "execution_count": null,
   "id": "b2f35cd1",
   "metadata": {},
   "outputs": [],
   "source": []
  },
  {
   "cell_type": "code",
   "execution_count": null,
   "id": "5a4692a5",
   "metadata": {},
   "outputs": [],
   "source": []
  },
  {
   "cell_type": "code",
   "execution_count": null,
   "id": "1b95a3cd",
   "metadata": {},
   "outputs": [],
   "source": []
  },
  {
   "cell_type": "code",
   "execution_count": null,
   "id": "eeff0b1f",
   "metadata": {},
   "outputs": [],
   "source": []
  },
  {
   "cell_type": "code",
   "execution_count": null,
   "id": "557d8281",
   "metadata": {},
   "outputs": [],
   "source": []
  },
  {
   "cell_type": "code",
   "execution_count": null,
   "id": "f77fa731",
   "metadata": {},
   "outputs": [],
   "source": []
  },
  {
   "cell_type": "code",
   "execution_count": null,
   "id": "0c37e3ee",
   "metadata": {},
   "outputs": [],
   "source": []
  },
  {
   "cell_type": "code",
   "execution_count": null,
   "id": "ce1715c8",
   "metadata": {},
   "outputs": [],
   "source": []
  },
  {
   "cell_type": "code",
   "execution_count": null,
   "id": "dadb0301",
   "metadata": {},
   "outputs": [],
   "source": []
  },
  {
   "cell_type": "code",
   "execution_count": null,
   "id": "96e64886",
   "metadata": {},
   "outputs": [],
   "source": []
  },
  {
   "cell_type": "code",
   "execution_count": null,
   "id": "13330864",
   "metadata": {},
   "outputs": [],
   "source": []
  },
  {
   "cell_type": "code",
   "execution_count": null,
   "id": "959c4c28",
   "metadata": {},
   "outputs": [],
   "source": []
  },
  {
   "cell_type": "code",
   "execution_count": null,
   "id": "40d3b23d",
   "metadata": {},
   "outputs": [],
   "source": []
  },
  {
   "cell_type": "code",
   "execution_count": null,
   "id": "50d595fd",
   "metadata": {},
   "outputs": [],
   "source": []
  },
  {
   "cell_type": "code",
   "execution_count": null,
   "id": "f6b1875e",
   "metadata": {},
   "outputs": [],
   "source": []
  },
  {
   "cell_type": "code",
   "execution_count": null,
   "id": "26ff706b",
   "metadata": {},
   "outputs": [],
   "source": []
  },
  {
   "cell_type": "code",
   "execution_count": null,
   "id": "a8100e3b",
   "metadata": {},
   "outputs": [],
   "source": []
  },
  {
   "cell_type": "code",
   "execution_count": null,
   "id": "82dac9ca",
   "metadata": {},
   "outputs": [],
   "source": []
  },
  {
   "cell_type": "code",
   "execution_count": null,
   "id": "44f02607",
   "metadata": {},
   "outputs": [],
   "source": []
  },
  {
   "cell_type": "code",
   "execution_count": null,
   "id": "0b438bae",
   "metadata": {},
   "outputs": [],
   "source": []
  },
  {
   "cell_type": "code",
   "execution_count": null,
   "id": "d90aec6e",
   "metadata": {},
   "outputs": [],
   "source": []
  },
  {
   "cell_type": "code",
   "execution_count": null,
   "id": "4cb4082f",
   "metadata": {},
   "outputs": [],
   "source": []
  },
  {
   "cell_type": "code",
   "execution_count": null,
   "id": "48e57c25",
   "metadata": {},
   "outputs": [],
   "source": []
  },
  {
   "cell_type": "code",
   "execution_count": null,
   "id": "f1d0b7ec",
   "metadata": {},
   "outputs": [],
   "source": []
  },
  {
   "cell_type": "code",
   "execution_count": null,
   "id": "3618ee13",
   "metadata": {},
   "outputs": [],
   "source": []
  },
  {
   "cell_type": "code",
   "execution_count": null,
   "id": "5ce136c8",
   "metadata": {},
   "outputs": [],
   "source": []
  },
  {
   "cell_type": "code",
   "execution_count": null,
   "id": "8687ed44",
   "metadata": {},
   "outputs": [],
   "source": []
  },
  {
   "cell_type": "code",
   "execution_count": null,
   "id": "9aade1fc",
   "metadata": {},
   "outputs": [],
   "source": []
  },
  {
   "cell_type": "code",
   "execution_count": null,
   "id": "49f3d0e7",
   "metadata": {},
   "outputs": [],
   "source": []
  },
  {
   "cell_type": "code",
   "execution_count": null,
   "id": "d6c99c69",
   "metadata": {},
   "outputs": [],
   "source": []
  },
  {
   "cell_type": "code",
   "execution_count": null,
   "id": "f01d37b6",
   "metadata": {},
   "outputs": [],
   "source": []
  },
  {
   "cell_type": "code",
   "execution_count": null,
   "id": "714c3105",
   "metadata": {},
   "outputs": [],
   "source": []
  },
  {
   "cell_type": "code",
   "execution_count": null,
   "id": "2cfc1677",
   "metadata": {},
   "outputs": [],
   "source": []
  },
  {
   "cell_type": "code",
   "execution_count": null,
   "id": "35abd1a3",
   "metadata": {},
   "outputs": [],
   "source": []
  },
  {
   "cell_type": "code",
   "execution_count": null,
   "id": "c1ad2e7d",
   "metadata": {},
   "outputs": [],
   "source": []
  },
  {
   "cell_type": "code",
   "execution_count": null,
   "id": "d4fc5ab4",
   "metadata": {},
   "outputs": [],
   "source": []
  },
  {
   "cell_type": "code",
   "execution_count": null,
   "id": "3f03829e",
   "metadata": {},
   "outputs": [],
   "source": []
  },
  {
   "cell_type": "code",
   "execution_count": null,
   "id": "959dfff6",
   "metadata": {},
   "outputs": [],
   "source": []
  },
  {
   "cell_type": "code",
   "execution_count": null,
   "id": "76e6ba47",
   "metadata": {},
   "outputs": [],
   "source": []
  },
  {
   "cell_type": "code",
   "execution_count": null,
   "id": "a573897c",
   "metadata": {},
   "outputs": [],
   "source": []
  },
  {
   "cell_type": "code",
   "execution_count": null,
   "id": "34824242",
   "metadata": {},
   "outputs": [],
   "source": []
  },
  {
   "cell_type": "code",
   "execution_count": null,
   "id": "2b1b81d7",
   "metadata": {},
   "outputs": [],
   "source": []
  },
  {
   "cell_type": "code",
   "execution_count": null,
   "id": "902650e5",
   "metadata": {},
   "outputs": [],
   "source": []
  },
  {
   "cell_type": "code",
   "execution_count": null,
   "id": "52603292",
   "metadata": {},
   "outputs": [],
   "source": []
  },
  {
   "cell_type": "code",
   "execution_count": null,
   "id": "831b82af",
   "metadata": {},
   "outputs": [],
   "source": []
  },
  {
   "cell_type": "code",
   "execution_count": null,
   "id": "37873695",
   "metadata": {},
   "outputs": [],
   "source": []
  },
  {
   "cell_type": "code",
   "execution_count": null,
   "id": "de797129",
   "metadata": {},
   "outputs": [],
   "source": []
  },
  {
   "cell_type": "code",
   "execution_count": null,
   "id": "0c56ba03",
   "metadata": {},
   "outputs": [],
   "source": []
  },
  {
   "cell_type": "code",
   "execution_count": null,
   "id": "5d35fef6",
   "metadata": {},
   "outputs": [],
   "source": []
  },
  {
   "cell_type": "code",
   "execution_count": null,
   "id": "1ebf6876",
   "metadata": {},
   "outputs": [],
   "source": []
  },
  {
   "cell_type": "code",
   "execution_count": null,
   "id": "9175e7f5",
   "metadata": {},
   "outputs": [],
   "source": []
  },
  {
   "cell_type": "code",
   "execution_count": null,
   "id": "44bf0024",
   "metadata": {},
   "outputs": [],
   "source": []
  },
  {
   "cell_type": "code",
   "execution_count": null,
   "id": "0fef318b",
   "metadata": {},
   "outputs": [],
   "source": []
  },
  {
   "cell_type": "code",
   "execution_count": null,
   "id": "3eaacc7e",
   "metadata": {},
   "outputs": [],
   "source": []
  },
  {
   "cell_type": "code",
   "execution_count": 6,
   "id": "9fd968d8",
   "metadata": {},
   "outputs": [
    {
     "name": "stdout",
     "output_type": "stream",
     "text": [
      "20\n"
     ]
    }
   ],
   "source": [
    "import requests\n",
    "from bs4 import BeautifulSoup\n",
    "from duckduckgo_search import ddg\n",
    "import pandas as pd\n",
    "\n",
    "\n",
    "#for bold and color text:\n",
    "class color:\n",
    "   PURPLE = '\\033[95m'\n",
    "   CYAN = '\\033[96m'\n",
    "   DARKCYAN = '\\033[36m'\n",
    "   BLUE = '\\033[94m'\n",
    "   GREEN = '\\033[92m'\n",
    "   YELLOW = '\\033[93m'\n",
    "   RED = '\\033[91m'\n",
    "   BOLD = '\\033[1m'\n",
    "   UNDERLINE = '\\033[4m'\n",
    "   END = '\\033[0m'\n",
    "\n",
    "\n",
    "rslts=ddg(\"site:patents.google.com Ru-containing precursors AND DRAM\")\n",
    "links = []\n",
    "\n",
    "for every_dict in rslts:\n",
    "    href = every_dict['href']   \n",
    "    links.append(href)\n",
    "    \n",
    "#print(links)\n",
    "n=len(links)\n",
    "print(n)\n",
    "\n",
    "data={'title':'abstract'}\n",
    "\n",
    "for x in range(0,1):\n",
    "    ip=requests.get(links[x])\n",
    "    soup2=BeautifulSoup(ip.text,'html.parser')\n",
    "    title=soup2.find(\"div\",\"title-wrapper\")\n",
    "    abstract=soup2.find(\"div\",\"to-xlarge-font\")\n",
    "    \n",
    "    data1={title:[abstract]}\n",
    "    data.update(data1)\n",
    "df= pd.DataFrame(data1)\n"
   ]
  },
  {
   "cell_type": "code",
   "execution_count": 7,
   "id": "8317fa98",
   "metadata": {},
   "outputs": [
    {
     "data": {
      "text/html": [
       "<div>\n",
       "<style scoped>\n",
       "    .dataframe tbody tr th:only-of-type {\n",
       "        vertical-align: middle;\n",
       "    }\n",
       "\n",
       "    .dataframe tbody tr th {\n",
       "        vertical-align: top;\n",
       "    }\n",
       "\n",
       "    .dataframe thead th {\n",
       "        text-align: right;\n",
       "    }\n",
       "</style>\n",
       "<table border=\"1\" class=\"dataframe\">\n",
       "  <thead>\n",
       "    <tr style=\"text-align: right;\">\n",
       "      <th></th>\n",
       "      <th>None</th>\n",
       "    </tr>\n",
       "  </thead>\n",
       "  <tbody>\n",
       "    <tr>\n",
       "      <th>0</th>\n",
       "      <td>None</td>\n",
       "    </tr>\n",
       "  </tbody>\n",
       "</table>\n",
       "</div>"
      ],
      "text/plain": [
       "   None\n",
       "0  None"
      ]
     },
     "execution_count": 7,
     "metadata": {},
     "output_type": "execute_result"
    }
   ],
   "source": [
    "df"
   ]
  },
  {
   "cell_type": "code",
   "execution_count": 11,
   "id": "04c4b714",
   "metadata": {},
   "outputs": [
    {
     "name": "stdout",
     "output_type": "stream",
     "text": [
      "29\n"
     ]
    },
    {
     "ename": "AttributeError",
     "evalue": "'NoneType' object has no attribute 'text'",
     "output_type": "error",
     "traceback": [
      "\u001b[1;31m---------------------------------------------------------------------------\u001b[0m",
      "\u001b[1;31mAttributeError\u001b[0m                            Traceback (most recent call last)",
      "\u001b[1;32m~\\AppData\\Local\\Temp\\ipykernel_21052\\3660739236.py\u001b[0m in \u001b[0;36m<module>\u001b[1;34m\u001b[0m\n\u001b[0;32m     34\u001b[0m     \u001b[0mip\u001b[0m\u001b[1;33m=\u001b[0m\u001b[0mrequests\u001b[0m\u001b[1;33m.\u001b[0m\u001b[0mget\u001b[0m\u001b[1;33m(\u001b[0m\u001b[0mlinks\u001b[0m\u001b[1;33m[\u001b[0m\u001b[0mx\u001b[0m\u001b[1;33m]\u001b[0m\u001b[1;33m)\u001b[0m\u001b[1;33m\u001b[0m\u001b[1;33m\u001b[0m\u001b[0m\n\u001b[0;32m     35\u001b[0m     \u001b[0msoup2\u001b[0m\u001b[1;33m=\u001b[0m\u001b[0mBeautifulSoup\u001b[0m\u001b[1;33m(\u001b[0m\u001b[0mip\u001b[0m\u001b[1;33m.\u001b[0m\u001b[0mtext\u001b[0m\u001b[1;33m,\u001b[0m\u001b[1;34m'html.parser'\u001b[0m\u001b[1;33m)\u001b[0m\u001b[1;33m\u001b[0m\u001b[1;33m\u001b[0m\u001b[0m\n\u001b[1;32m---> 36\u001b[1;33m     \u001b[0mtitle\u001b[0m\u001b[1;33m=\u001b[0m\u001b[0msoup2\u001b[0m\u001b[1;33m.\u001b[0m\u001b[0mfind\u001b[0m\u001b[1;33m(\u001b[0m\u001b[1;34m\"div\"\u001b[0m\u001b[1;33m,\u001b[0m\u001b[1;34m\"title-wrapper\"\u001b[0m\u001b[1;33m)\u001b[0m\u001b[1;33m.\u001b[0m\u001b[0mtext\u001b[0m\u001b[1;33m\u001b[0m\u001b[1;33m\u001b[0m\u001b[0m\n\u001b[0m\u001b[0;32m     37\u001b[0m     \u001b[0mabstract\u001b[0m\u001b[1;33m=\u001b[0m\u001b[0msoup2\u001b[0m\u001b[1;33m.\u001b[0m\u001b[0mfind\u001b[0m\u001b[1;33m(\u001b[0m\u001b[1;34m\"div\"\u001b[0m\u001b[1;33m,\u001b[0m\u001b[1;34m\"to-xlarge-font\"\u001b[0m\u001b[1;33m)\u001b[0m\u001b[1;33m.\u001b[0m\u001b[0mtext\u001b[0m\u001b[1;33m\u001b[0m\u001b[1;33m\u001b[0m\u001b[0m\n\u001b[0;32m     38\u001b[0m \u001b[1;33m\u001b[0m\u001b[0m\n",
      "\u001b[1;31mAttributeError\u001b[0m: 'NoneType' object has no attribute 'text'"
     ]
    }
   ],
   "source": [
    "import requests\n",
    "from bs4 import BeautifulSoup\n",
    "from duckduckgo_search import ddg\n",
    "from openpyxl import workbook\n",
    "\n",
    "\n",
    "#for bold and color text:\n",
    "class color:\n",
    "   PURPLE = '\\033[95m'\n",
    "   CYAN = '\\033[96m'\n",
    "   DARKCYAN = '\\033[36m'\n",
    "   BLUE = '\\033[94m'\n",
    "   GREEN = '\\033[92m'\n",
    "   YELLOW = '\\033[93m'\n",
    "   RED = '\\033[91m'\n",
    "   BOLD = '\\033[1m'\n",
    "   UNDERLINE = '\\033[4m'\n",
    "   END = '\\033[0m'\n",
    "\n",
    "\n",
    "rslts=ddg(\"site:patents.justia.com Ru-containing precursor AND nm node AND DRAM\")\n",
    "links = []\n",
    "\n",
    "for every_dict in rslts:\n",
    "    href = every_dict['href']   \n",
    "    links.append(href)\n",
    "    \n",
    "#print(links)\n",
    "n=len(links)\n",
    "print(n)\n",
    "\n",
    "\n",
    "for x in range(0,n+1):\n",
    "    ip=requests.get(links[x])\n",
    "    soup2=BeautifulSoup(ip.text,'html.parser')\n",
    "    title=soup2.find(\"div\",\"title-wrapper\").text\n",
    "    abstract=soup2.find(\"div\",\"to-xlarge-font\").text\n",
    "    \n",
    "    print((color.BOLD + \"The title of the patent is: \" + color.END) + title + '\\n' + (color.BOLD + \"Abstract of the patent is \"+ color.END) + abstract)\n",
    "    print(\"-----------------------------------------------------------------------------------------\")"
   ]
  },
  {
   "cell_type": "code",
   "execution_count": null,
   "id": "9a76f580",
   "metadata": {},
   "outputs": [],
   "source": []
  },
  {
   "cell_type": "code",
   "execution_count": null,
   "id": "6070863c",
   "metadata": {},
   "outputs": [],
   "source": []
  },
  {
   "cell_type": "code",
   "execution_count": null,
   "id": "b121ee16",
   "metadata": {},
   "outputs": [],
   "source": []
  },
  {
   "cell_type": "code",
   "execution_count": null,
   "id": "8f91e0df",
   "metadata": {},
   "outputs": [],
   "source": []
  },
  {
   "cell_type": "code",
   "execution_count": null,
   "id": "5a058922",
   "metadata": {},
   "outputs": [],
   "source": []
  },
  {
   "cell_type": "code",
   "execution_count": null,
   "id": "db1766bc",
   "metadata": {},
   "outputs": [],
   "source": []
  },
  {
   "cell_type": "code",
   "execution_count": null,
   "id": "309cf3bd",
   "metadata": {},
   "outputs": [],
   "source": []
  },
  {
   "cell_type": "code",
   "execution_count": null,
   "id": "71f9113a",
   "metadata": {},
   "outputs": [],
   "source": []
  },
  {
   "cell_type": "code",
   "execution_count": null,
   "id": "242f6c64",
   "metadata": {},
   "outputs": [],
   "source": []
  },
  {
   "cell_type": "code",
   "execution_count": null,
   "id": "61e5020e",
   "metadata": {},
   "outputs": [],
   "source": []
  },
  {
   "cell_type": "code",
   "execution_count": null,
   "id": "7465c596",
   "metadata": {},
   "outputs": [],
   "source": []
  },
  {
   "cell_type": "code",
   "execution_count": null,
   "id": "2bcd8092",
   "metadata": {},
   "outputs": [],
   "source": []
  },
  {
   "cell_type": "code",
   "execution_count": null,
   "id": "63b3317e",
   "metadata": {},
   "outputs": [],
   "source": []
  },
  {
   "cell_type": "code",
   "execution_count": null,
   "id": "d004f313",
   "metadata": {},
   "outputs": [],
   "source": []
  },
  {
   "cell_type": "code",
   "execution_count": null,
   "id": "4236078c",
   "metadata": {},
   "outputs": [],
   "source": []
  },
  {
   "cell_type": "code",
   "execution_count": null,
   "id": "a4a3cec5",
   "metadata": {},
   "outputs": [],
   "source": []
  },
  {
   "cell_type": "code",
   "execution_count": null,
   "id": "f4defe92",
   "metadata": {},
   "outputs": [],
   "source": []
  },
  {
   "cell_type": "code",
   "execution_count": null,
   "id": "5b2aaed7",
   "metadata": {},
   "outputs": [],
   "source": []
  },
  {
   "cell_type": "code",
   "execution_count": null,
   "id": "ade2ea3a",
   "metadata": {},
   "outputs": [],
   "source": []
  },
  {
   "cell_type": "code",
   "execution_count": null,
   "id": "664b3e2d",
   "metadata": {},
   "outputs": [],
   "source": []
  },
  {
   "cell_type": "code",
   "execution_count": null,
   "id": "d8129d45",
   "metadata": {},
   "outputs": [],
   "source": []
  },
  {
   "cell_type": "code",
   "execution_count": null,
   "id": "cd2e32f3",
   "metadata": {},
   "outputs": [],
   "source": []
  },
  {
   "cell_type": "code",
   "execution_count": null,
   "id": "a943a7eb",
   "metadata": {},
   "outputs": [],
   "source": []
  },
  {
   "cell_type": "code",
   "execution_count": null,
   "id": "cfcdd8ac",
   "metadata": {},
   "outputs": [],
   "source": []
  },
  {
   "cell_type": "code",
   "execution_count": null,
   "id": "3a3fa889",
   "metadata": {},
   "outputs": [],
   "source": []
  },
  {
   "cell_type": "code",
   "execution_count": null,
   "id": "26853cc7",
   "metadata": {},
   "outputs": [],
   "source": []
  },
  {
   "cell_type": "code",
   "execution_count": null,
   "id": "25d0df38",
   "metadata": {},
   "outputs": [],
   "source": []
  },
  {
   "cell_type": "code",
   "execution_count": null,
   "id": "7c054170",
   "metadata": {},
   "outputs": [],
   "source": []
  },
  {
   "cell_type": "code",
   "execution_count": null,
   "id": "3371287d",
   "metadata": {},
   "outputs": [],
   "source": []
  },
  {
   "cell_type": "code",
   "execution_count": null,
   "id": "71e00a88",
   "metadata": {},
   "outputs": [],
   "source": []
  },
  {
   "cell_type": "code",
   "execution_count": null,
   "id": "e58e7069",
   "metadata": {},
   "outputs": [],
   "source": []
  },
  {
   "cell_type": "code",
   "execution_count": null,
   "id": "1b4851df",
   "metadata": {},
   "outputs": [],
   "source": []
  },
  {
   "cell_type": "code",
   "execution_count": null,
   "id": "654d19a1",
   "metadata": {},
   "outputs": [],
   "source": []
  },
  {
   "cell_type": "code",
   "execution_count": null,
   "id": "f5ac7d14",
   "metadata": {},
   "outputs": [],
   "source": []
  },
  {
   "cell_type": "code",
   "execution_count": null,
   "id": "f9bda6dc",
   "metadata": {},
   "outputs": [],
   "source": []
  },
  {
   "cell_type": "code",
   "execution_count": null,
   "id": "e8b27cbf",
   "metadata": {},
   "outputs": [],
   "source": []
  },
  {
   "cell_type": "code",
   "execution_count": null,
   "id": "c7415457",
   "metadata": {},
   "outputs": [],
   "source": []
  },
  {
   "cell_type": "code",
   "execution_count": 96,
   "id": "741f0440",
   "metadata": {},
   "outputs": [
    {
     "data": {
      "text/plain": [
       "title    abstract\n",
       "1               0\n",
       "2               1\n",
       "3               2\n",
       "4               3\n",
       "5               4\n",
       "6               5\n",
       "7               6\n",
       "8               7\n",
       "9               8\n",
       "10              9\n",
       "dtype: object"
      ]
     },
     "execution_count": 96,
     "metadata": {},
     "output_type": "execute_result"
    }
   ],
   "source": [
    "import pandas as pd\n",
    "\n",
    "dat={'title':'abstract'}\n",
    "\n",
    "for x in range(0,10):\n",
    "    title=x+1\n",
    "    abstract=x\n",
    "    ttt={title:abstract}\n",
    "    dat.update(ttt)\n",
    "pd.Series(dat)"
   ]
  },
  {
   "cell_type": "code",
   "execution_count": null,
   "id": "fde429e5",
   "metadata": {},
   "outputs": [],
   "source": []
  },
  {
   "cell_type": "code",
   "execution_count": null,
   "id": "33a5d5ea",
   "metadata": {},
   "outputs": [],
   "source": [
    "title=1\n",
    "abstract=0\n",
    "\n",
    "title=2\n",
    "abstract=1"
   ]
  },
  {
   "cell_type": "code",
   "execution_count": 94,
   "id": "548cc8a7",
   "metadata": {},
   "outputs": [
    {
     "data": {
      "text/plain": [
       "<module 'pandas' from 'C:\\\\Users\\\\Ideapoke\\\\anaconda3\\\\lib\\\\site-packages\\\\pandas\\\\__init__.py'>"
      ]
     },
     "execution_count": 94,
     "metadata": {},
     "output_type": "execute_result"
    }
   ],
   "source": [
    "pd"
   ]
  },
  {
   "cell_type": "code",
   "execution_count": null,
   "id": "6a9c896b",
   "metadata": {},
   "outputs": [],
   "source": []
  },
  {
   "cell_type": "code",
   "execution_count": null,
   "id": "65f13a23",
   "metadata": {},
   "outputs": [],
   "source": []
  },
  {
   "cell_type": "code",
   "execution_count": null,
   "id": "31b7ae1c",
   "metadata": {},
   "outputs": [],
   "source": []
  },
  {
   "cell_type": "code",
   "execution_count": null,
   "id": "110df3e6",
   "metadata": {},
   "outputs": [],
   "source": []
  },
  {
   "cell_type": "code",
   "execution_count": null,
   "id": "dec02d25",
   "metadata": {},
   "outputs": [],
   "source": []
  },
  {
   "cell_type": "code",
   "execution_count": null,
   "id": "298063c6",
   "metadata": {},
   "outputs": [],
   "source": []
  },
  {
   "cell_type": "code",
   "execution_count": null,
   "id": "006c38f5",
   "metadata": {},
   "outputs": [],
   "source": []
  },
  {
   "cell_type": "code",
   "execution_count": null,
   "id": "c8434740",
   "metadata": {},
   "outputs": [],
   "source": []
  },
  {
   "cell_type": "code",
   "execution_count": null,
   "id": "c5646b14",
   "metadata": {},
   "outputs": [],
   "source": []
  },
  {
   "cell_type": "code",
   "execution_count": null,
   "id": "a183cc44",
   "metadata": {},
   "outputs": [],
   "source": []
  },
  {
   "cell_type": "code",
   "execution_count": null,
   "id": "e4c22643",
   "metadata": {},
   "outputs": [],
   "source": []
  },
  {
   "cell_type": "code",
   "execution_count": null,
   "id": "704078b0",
   "metadata": {},
   "outputs": [],
   "source": []
  },
  {
   "cell_type": "code",
   "execution_count": null,
   "id": "f28262b3",
   "metadata": {},
   "outputs": [],
   "source": []
  },
  {
   "cell_type": "code",
   "execution_count": null,
   "id": "9fbac1fb",
   "metadata": {},
   "outputs": [],
   "source": []
  },
  {
   "cell_type": "code",
   "execution_count": null,
   "id": "d27c178a",
   "metadata": {},
   "outputs": [],
   "source": []
  },
  {
   "cell_type": "code",
   "execution_count": null,
   "id": "c5c5ce3a",
   "metadata": {},
   "outputs": [],
   "source": []
  },
  {
   "cell_type": "code",
   "execution_count": null,
   "id": "4cd657ff",
   "metadata": {},
   "outputs": [],
   "source": []
  },
  {
   "cell_type": "code",
   "execution_count": null,
   "id": "8599d893",
   "metadata": {},
   "outputs": [],
   "source": []
  },
  {
   "cell_type": "code",
   "execution_count": null,
   "id": "fca860b2",
   "metadata": {},
   "outputs": [],
   "source": []
  },
  {
   "cell_type": "code",
   "execution_count": null,
   "id": "0a4d25b5",
   "metadata": {},
   "outputs": [],
   "source": []
  },
  {
   "cell_type": "code",
   "execution_count": null,
   "id": "3ec483d9",
   "metadata": {},
   "outputs": [],
   "source": []
  },
  {
   "cell_type": "code",
   "execution_count": null,
   "id": "7d6c9b89",
   "metadata": {},
   "outputs": [],
   "source": []
  },
  {
   "cell_type": "code",
   "execution_count": null,
   "id": "a51118b4",
   "metadata": {},
   "outputs": [],
   "source": []
  },
  {
   "cell_type": "code",
   "execution_count": null,
   "id": "b28778fb",
   "metadata": {},
   "outputs": [],
   "source": []
  },
  {
   "cell_type": "code",
   "execution_count": null,
   "id": "bb58b31e",
   "metadata": {},
   "outputs": [],
   "source": []
  },
  {
   "cell_type": "code",
   "execution_count": null,
   "id": "4c26b9b7",
   "metadata": {},
   "outputs": [],
   "source": []
  },
  {
   "cell_type": "code",
   "execution_count": null,
   "id": "1afc6dec",
   "metadata": {},
   "outputs": [],
   "source": []
  },
  {
   "cell_type": "code",
   "execution_count": null,
   "id": "c18e9c97",
   "metadata": {},
   "outputs": [],
   "source": []
  },
  {
   "cell_type": "code",
   "execution_count": null,
   "id": "33cb1cbf",
   "metadata": {},
   "outputs": [],
   "source": []
  },
  {
   "cell_type": "code",
   "execution_count": null,
   "id": "88d121de",
   "metadata": {},
   "outputs": [],
   "source": []
  },
  {
   "cell_type": "code",
   "execution_count": null,
   "id": "560a1686",
   "metadata": {},
   "outputs": [],
   "source": []
  },
  {
   "cell_type": "code",
   "execution_count": null,
   "id": "cd3ea39c",
   "metadata": {},
   "outputs": [],
   "source": []
  },
  {
   "cell_type": "code",
   "execution_count": null,
   "id": "ea1120de",
   "metadata": {},
   "outputs": [],
   "source": []
  },
  {
   "cell_type": "code",
   "execution_count": null,
   "id": "98ba5ab5",
   "metadata": {},
   "outputs": [],
   "source": []
  },
  {
   "cell_type": "code",
   "execution_count": null,
   "id": "c64bbc1c",
   "metadata": {},
   "outputs": [],
   "source": []
  },
  {
   "cell_type": "code",
   "execution_count": null,
   "id": "62904459",
   "metadata": {},
   "outputs": [],
   "source": []
  },
  {
   "cell_type": "code",
   "execution_count": null,
   "id": "748bcd4c",
   "metadata": {},
   "outputs": [],
   "source": []
  },
  {
   "cell_type": "code",
   "execution_count": null,
   "id": "77112eac",
   "metadata": {},
   "outputs": [],
   "source": []
  },
  {
   "cell_type": "code",
   "execution_count": null,
   "id": "cbdcf667",
   "metadata": {},
   "outputs": [],
   "source": []
  },
  {
   "cell_type": "code",
   "execution_count": null,
   "id": "f5897e49",
   "metadata": {},
   "outputs": [],
   "source": []
  },
  {
   "cell_type": "code",
   "execution_count": null,
   "id": "c22dbe1e",
   "metadata": {},
   "outputs": [],
   "source": []
  },
  {
   "cell_type": "code",
   "execution_count": null,
   "id": "271e59f9",
   "metadata": {},
   "outputs": [],
   "source": []
  },
  {
   "cell_type": "code",
   "execution_count": null,
   "id": "88d49895",
   "metadata": {},
   "outputs": [],
   "source": []
  },
  {
   "cell_type": "code",
   "execution_count": null,
   "id": "7773861b",
   "metadata": {},
   "outputs": [],
   "source": []
  },
  {
   "cell_type": "code",
   "execution_count": null,
   "id": "f046c58c",
   "metadata": {},
   "outputs": [],
   "source": []
  },
  {
   "cell_type": "code",
   "execution_count": null,
   "id": "cd45c14c",
   "metadata": {},
   "outputs": [],
   "source": []
  },
  {
   "cell_type": "code",
   "execution_count": null,
   "id": "d73196b2",
   "metadata": {},
   "outputs": [],
   "source": []
  },
  {
   "cell_type": "code",
   "execution_count": null,
   "id": "227295b1",
   "metadata": {},
   "outputs": [],
   "source": []
  },
  {
   "cell_type": "code",
   "execution_count": null,
   "id": "67ab68c6",
   "metadata": {},
   "outputs": [],
   "source": []
  },
  {
   "cell_type": "code",
   "execution_count": null,
   "id": "c143a25a",
   "metadata": {},
   "outputs": [],
   "source": []
  },
  {
   "cell_type": "code",
   "execution_count": null,
   "id": "81aaa1d5",
   "metadata": {},
   "outputs": [],
   "source": []
  },
  {
   "cell_type": "code",
   "execution_count": null,
   "id": "dddc8ff9",
   "metadata": {},
   "outputs": [],
   "source": []
  },
  {
   "cell_type": "code",
   "execution_count": null,
   "id": "177a3f62",
   "metadata": {},
   "outputs": [],
   "source": []
  },
  {
   "cell_type": "code",
   "execution_count": null,
   "id": "d704a402",
   "metadata": {},
   "outputs": [],
   "source": []
  },
  {
   "cell_type": "code",
   "execution_count": null,
   "id": "bf36b49d",
   "metadata": {},
   "outputs": [],
   "source": []
  },
  {
   "cell_type": "code",
   "execution_count": null,
   "id": "34a792e2",
   "metadata": {},
   "outputs": [],
   "source": []
  },
  {
   "cell_type": "code",
   "execution_count": null,
   "id": "9f678038",
   "metadata": {},
   "outputs": [],
   "source": []
  },
  {
   "cell_type": "code",
   "execution_count": null,
   "id": "46cef0e1",
   "metadata": {},
   "outputs": [],
   "source": []
  },
  {
   "cell_type": "code",
   "execution_count": null,
   "id": "cc5fe21e",
   "metadata": {},
   "outputs": [],
   "source": []
  },
  {
   "cell_type": "code",
   "execution_count": null,
   "id": "67cdb6d2",
   "metadata": {},
   "outputs": [],
   "source": []
  },
  {
   "cell_type": "code",
   "execution_count": null,
   "id": "446d10b4",
   "metadata": {},
   "outputs": [],
   "source": []
  },
  {
   "cell_type": "code",
   "execution_count": null,
   "id": "50a59740",
   "metadata": {},
   "outputs": [],
   "source": []
  },
  {
   "cell_type": "code",
   "execution_count": null,
   "id": "45d3c2b1",
   "metadata": {},
   "outputs": [],
   "source": []
  },
  {
   "cell_type": "code",
   "execution_count": null,
   "id": "14cdf3f2",
   "metadata": {},
   "outputs": [],
   "source": []
  },
  {
   "cell_type": "code",
   "execution_count": null,
   "id": "b63aca80",
   "metadata": {},
   "outputs": [],
   "source": []
  },
  {
   "cell_type": "code",
   "execution_count": null,
   "id": "e51d6cc9",
   "metadata": {},
   "outputs": [],
   "source": []
  },
  {
   "cell_type": "code",
   "execution_count": null,
   "id": "fc708666",
   "metadata": {},
   "outputs": [],
   "source": []
  },
  {
   "cell_type": "code",
   "execution_count": null,
   "id": "55e22857",
   "metadata": {},
   "outputs": [],
   "source": []
  },
  {
   "cell_type": "code",
   "execution_count": null,
   "id": "454fd856",
   "metadata": {},
   "outputs": [],
   "source": []
  },
  {
   "cell_type": "code",
   "execution_count": null,
   "id": "b2c66091",
   "metadata": {},
   "outputs": [],
   "source": []
  },
  {
   "cell_type": "code",
   "execution_count": null,
   "id": "7ff18d4b",
   "metadata": {},
   "outputs": [],
   "source": []
  },
  {
   "cell_type": "code",
   "execution_count": null,
   "id": "762099d2",
   "metadata": {},
   "outputs": [],
   "source": []
  },
  {
   "cell_type": "code",
   "execution_count": null,
   "id": "f1bf3b7a",
   "metadata": {},
   "outputs": [],
   "source": []
  },
  {
   "cell_type": "code",
   "execution_count": null,
   "id": "830447c2",
   "metadata": {},
   "outputs": [],
   "source": []
  },
  {
   "cell_type": "code",
   "execution_count": null,
   "id": "47098f69",
   "metadata": {},
   "outputs": [],
   "source": []
  },
  {
   "cell_type": "code",
   "execution_count": null,
   "id": "33d35446",
   "metadata": {},
   "outputs": [],
   "source": []
  },
  {
   "cell_type": "code",
   "execution_count": null,
   "id": "cebd7584",
   "metadata": {},
   "outputs": [],
   "source": []
  },
  {
   "cell_type": "code",
   "execution_count": null,
   "id": "d9bba451",
   "metadata": {},
   "outputs": [],
   "source": []
  },
  {
   "cell_type": "code",
   "execution_count": null,
   "id": "b28aa5e1",
   "metadata": {},
   "outputs": [],
   "source": []
  },
  {
   "cell_type": "code",
   "execution_count": null,
   "id": "e23eadbb",
   "metadata": {},
   "outputs": [],
   "source": []
  },
  {
   "cell_type": "code",
   "execution_count": null,
   "id": "eb8459ee",
   "metadata": {},
   "outputs": [],
   "source": []
  },
  {
   "cell_type": "code",
   "execution_count": null,
   "id": "9fc1d5b3",
   "metadata": {},
   "outputs": [],
   "source": []
  },
  {
   "cell_type": "code",
   "execution_count": null,
   "id": "95c9ca9a",
   "metadata": {},
   "outputs": [],
   "source": []
  },
  {
   "cell_type": "code",
   "execution_count": null,
   "id": "aacd08ca",
   "metadata": {},
   "outputs": [],
   "source": []
  },
  {
   "cell_type": "code",
   "execution_count": null,
   "id": "524c557d",
   "metadata": {},
   "outputs": [],
   "source": []
  },
  {
   "cell_type": "code",
   "execution_count": null,
   "id": "e148c895",
   "metadata": {},
   "outputs": [],
   "source": []
  },
  {
   "cell_type": "code",
   "execution_count": null,
   "id": "74c2f728",
   "metadata": {},
   "outputs": [],
   "source": []
  },
  {
   "cell_type": "code",
   "execution_count": null,
   "id": "9737bb1e",
   "metadata": {},
   "outputs": [],
   "source": []
  },
  {
   "cell_type": "code",
   "execution_count": null,
   "id": "1bc80337",
   "metadata": {},
   "outputs": [],
   "source": []
  },
  {
   "cell_type": "code",
   "execution_count": null,
   "id": "3297f523",
   "metadata": {},
   "outputs": [],
   "source": []
  },
  {
   "cell_type": "code",
   "execution_count": null,
   "id": "8b3c0600",
   "metadata": {},
   "outputs": [],
   "source": []
  },
  {
   "cell_type": "code",
   "execution_count": null,
   "id": "fbb863f9",
   "metadata": {},
   "outputs": [],
   "source": []
  },
  {
   "cell_type": "code",
   "execution_count": null,
   "id": "55445b77",
   "metadata": {},
   "outputs": [],
   "source": []
  },
  {
   "cell_type": "code",
   "execution_count": null,
   "id": "47946c4d",
   "metadata": {},
   "outputs": [],
   "source": []
  },
  {
   "cell_type": "code",
   "execution_count": null,
   "id": "cf0867a2",
   "metadata": {},
   "outputs": [],
   "source": []
  },
  {
   "cell_type": "code",
   "execution_count": null,
   "id": "4ca999ce",
   "metadata": {},
   "outputs": [],
   "source": []
  },
  {
   "cell_type": "code",
   "execution_count": null,
   "id": "1bc39419",
   "metadata": {},
   "outputs": [],
   "source": []
  },
  {
   "cell_type": "code",
   "execution_count": null,
   "id": "ba1f784a",
   "metadata": {},
   "outputs": [],
   "source": []
  },
  {
   "cell_type": "code",
   "execution_count": null,
   "id": "b4cf02ee",
   "metadata": {},
   "outputs": [],
   "source": []
  },
  {
   "cell_type": "code",
   "execution_count": null,
   "id": "facdc3ad",
   "metadata": {},
   "outputs": [],
   "source": []
  },
  {
   "cell_type": "code",
   "execution_count": null,
   "id": "d01bd926",
   "metadata": {},
   "outputs": [],
   "source": []
  },
  {
   "cell_type": "code",
   "execution_count": null,
   "id": "1b1915be",
   "metadata": {},
   "outputs": [],
   "source": []
  },
  {
   "cell_type": "code",
   "execution_count": null,
   "id": "f23e926b",
   "metadata": {},
   "outputs": [],
   "source": []
  },
  {
   "cell_type": "code",
   "execution_count": null,
   "id": "0c5201fd",
   "metadata": {},
   "outputs": [],
   "source": []
  },
  {
   "cell_type": "code",
   "execution_count": null,
   "id": "78723a5d",
   "metadata": {},
   "outputs": [],
   "source": []
  },
  {
   "cell_type": "code",
   "execution_count": null,
   "id": "63a1dfff",
   "metadata": {},
   "outputs": [],
   "source": []
  },
  {
   "cell_type": "code",
   "execution_count": null,
   "id": "c078e85a",
   "metadata": {},
   "outputs": [],
   "source": []
  },
  {
   "cell_type": "code",
   "execution_count": null,
   "id": "528fb2ec",
   "metadata": {},
   "outputs": [],
   "source": []
  },
  {
   "cell_type": "code",
   "execution_count": null,
   "id": "fbfb184a",
   "metadata": {},
   "outputs": [],
   "source": []
  },
  {
   "cell_type": "code",
   "execution_count": null,
   "id": "af64a071",
   "metadata": {},
   "outputs": [],
   "source": []
  },
  {
   "cell_type": "code",
   "execution_count": null,
   "id": "d4bc1567",
   "metadata": {},
   "outputs": [],
   "source": []
  },
  {
   "cell_type": "code",
   "execution_count": null,
   "id": "17872e51",
   "metadata": {},
   "outputs": [],
   "source": []
  },
  {
   "cell_type": "code",
   "execution_count": null,
   "id": "a13e14b0",
   "metadata": {},
   "outputs": [],
   "source": []
  },
  {
   "cell_type": "code",
   "execution_count": null,
   "id": "287e88f6",
   "metadata": {},
   "outputs": [],
   "source": []
  },
  {
   "cell_type": "code",
   "execution_count": null,
   "id": "e3d09e13",
   "metadata": {},
   "outputs": [],
   "source": []
  },
  {
   "cell_type": "code",
   "execution_count": null,
   "id": "942422e0",
   "metadata": {},
   "outputs": [],
   "source": []
  },
  {
   "cell_type": "code",
   "execution_count": null,
   "id": "39cd4c46",
   "metadata": {},
   "outputs": [],
   "source": []
  },
  {
   "cell_type": "code",
   "execution_count": null,
   "id": "df97375f",
   "metadata": {},
   "outputs": [],
   "source": []
  },
  {
   "cell_type": "code",
   "execution_count": null,
   "id": "70545ac1",
   "metadata": {},
   "outputs": [],
   "source": []
  },
  {
   "cell_type": "code",
   "execution_count": null,
   "id": "0414ef92",
   "metadata": {},
   "outputs": [],
   "source": []
  },
  {
   "cell_type": "code",
   "execution_count": null,
   "id": "2f8dc164",
   "metadata": {},
   "outputs": [],
   "source": []
  },
  {
   "cell_type": "code",
   "execution_count": null,
   "id": "d99eddd4",
   "metadata": {},
   "outputs": [],
   "source": []
  },
  {
   "cell_type": "code",
   "execution_count": null,
   "id": "72ee3984",
   "metadata": {},
   "outputs": [],
   "source": []
  },
  {
   "cell_type": "code",
   "execution_count": null,
   "id": "405609c1",
   "metadata": {},
   "outputs": [],
   "source": []
  },
  {
   "cell_type": "code",
   "execution_count": null,
   "id": "d719aa57",
   "metadata": {},
   "outputs": [],
   "source": []
  },
  {
   "cell_type": "code",
   "execution_count": null,
   "id": "33e5343e",
   "metadata": {},
   "outputs": [],
   "source": []
  },
  {
   "cell_type": "code",
   "execution_count": null,
   "id": "62e3906b",
   "metadata": {},
   "outputs": [],
   "source": []
  },
  {
   "cell_type": "code",
   "execution_count": null,
   "id": "39a06d22",
   "metadata": {},
   "outputs": [],
   "source": []
  },
  {
   "cell_type": "code",
   "execution_count": null,
   "id": "360d7e50",
   "metadata": {},
   "outputs": [],
   "source": []
  },
  {
   "cell_type": "code",
   "execution_count": null,
   "id": "76da2362",
   "metadata": {},
   "outputs": [],
   "source": []
  },
  {
   "cell_type": "code",
   "execution_count": null,
   "id": "8ad90f30",
   "metadata": {},
   "outputs": [],
   "source": []
  },
  {
   "cell_type": "code",
   "execution_count": null,
   "id": "3a031a7e",
   "metadata": {},
   "outputs": [],
   "source": []
  },
  {
   "cell_type": "code",
   "execution_count": null,
   "id": "085de0d2",
   "metadata": {},
   "outputs": [],
   "source": []
  },
  {
   "cell_type": "code",
   "execution_count": null,
   "id": "d1ec05eb",
   "metadata": {},
   "outputs": [],
   "source": []
  },
  {
   "cell_type": "code",
   "execution_count": null,
   "id": "3beae7b1",
   "metadata": {},
   "outputs": [],
   "source": []
  },
  {
   "cell_type": "code",
   "execution_count": null,
   "id": "18f23a6d",
   "metadata": {},
   "outputs": [],
   "source": []
  },
  {
   "cell_type": "code",
   "execution_count": null,
   "id": "0b85a467",
   "metadata": {},
   "outputs": [],
   "source": []
  },
  {
   "cell_type": "code",
   "execution_count": null,
   "id": "dc3472ce",
   "metadata": {},
   "outputs": [],
   "source": []
  },
  {
   "cell_type": "code",
   "execution_count": null,
   "id": "5c76b5b0",
   "metadata": {},
   "outputs": [],
   "source": []
  },
  {
   "cell_type": "code",
   "execution_count": null,
   "id": "744c9dea",
   "metadata": {},
   "outputs": [],
   "source": []
  },
  {
   "cell_type": "code",
   "execution_count": null,
   "id": "4903f4f9",
   "metadata": {},
   "outputs": [],
   "source": []
  },
  {
   "cell_type": "code",
   "execution_count": null,
   "id": "8f68dc38",
   "metadata": {},
   "outputs": [],
   "source": []
  },
  {
   "cell_type": "code",
   "execution_count": null,
   "id": "3f534e86",
   "metadata": {},
   "outputs": [],
   "source": []
  },
  {
   "cell_type": "code",
   "execution_count": null,
   "id": "8d3a66c2",
   "metadata": {},
   "outputs": [],
   "source": []
  },
  {
   "cell_type": "code",
   "execution_count": null,
   "id": "96192c9b",
   "metadata": {},
   "outputs": [],
   "source": []
  },
  {
   "cell_type": "code",
   "execution_count": null,
   "id": "78ea99e1",
   "metadata": {},
   "outputs": [],
   "source": []
  },
  {
   "cell_type": "code",
   "execution_count": null,
   "id": "66e7832a",
   "metadata": {},
   "outputs": [],
   "source": []
  },
  {
   "cell_type": "code",
   "execution_count": null,
   "id": "d0501321",
   "metadata": {},
   "outputs": [],
   "source": []
  },
  {
   "cell_type": "code",
   "execution_count": null,
   "id": "6ea93d40",
   "metadata": {},
   "outputs": [],
   "source": []
  },
  {
   "cell_type": "code",
   "execution_count": null,
   "id": "6cf43fef",
   "metadata": {},
   "outputs": [],
   "source": []
  },
  {
   "cell_type": "code",
   "execution_count": null,
   "id": "38b6e5cc",
   "metadata": {},
   "outputs": [],
   "source": []
  },
  {
   "cell_type": "code",
   "execution_count": null,
   "id": "9045f214",
   "metadata": {},
   "outputs": [],
   "source": []
  },
  {
   "cell_type": "code",
   "execution_count": null,
   "id": "b59e3014",
   "metadata": {},
   "outputs": [],
   "source": []
  },
  {
   "cell_type": "code",
   "execution_count": null,
   "id": "bc565f5f",
   "metadata": {},
   "outputs": [],
   "source": []
  },
  {
   "cell_type": "code",
   "execution_count": null,
   "id": "5d80e62d",
   "metadata": {},
   "outputs": [],
   "source": []
  },
  {
   "cell_type": "code",
   "execution_count": null,
   "id": "2c3d1769",
   "metadata": {},
   "outputs": [],
   "source": []
  },
  {
   "cell_type": "code",
   "execution_count": null,
   "id": "cadd569a",
   "metadata": {},
   "outputs": [],
   "source": []
  }
 ],
 "metadata": {
  "kernelspec": {
   "display_name": "Python 3 (ipykernel)",
   "language": "python",
   "name": "python3"
  },
  "language_info": {
   "codemirror_mode": {
    "name": "ipython",
    "version": 3
   },
   "file_extension": ".py",
   "mimetype": "text/x-python",
   "name": "python",
   "nbconvert_exporter": "python",
   "pygments_lexer": "ipython3",
   "version": "3.9.13"
  }
 },
 "nbformat": 4,
 "nbformat_minor": 5
}
