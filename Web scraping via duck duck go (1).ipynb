{
 "cells": [
  {
   "cell_type": "code",
   "execution_count": 2,
   "id": "f085b8bb",
   "metadata": {},
   "outputs": [
    {
     "name": "stdout",
     "output_type": "stream",
     "text": [
      "30\n",
      "None https://patents.google.com/patent/US8859047B2/en <div class=\"abstract\" num=\"p-0001\">Disclosed are atomic layer deposition methods using ruthenium-containing precursors to form ruthenium-containing films for use in the manufacture of semiconductor, photovoltaic, LCD-TFT, or flat panel type devices.</div> ----------------------------\n",
      "None https://patents.google.com/patent/US20110256721A1/en <div class=\"abstract\" id=\"p-0001\" num=\"0000\">Disclosed are ruthenium-containing precursors and methods of using the same in CVD and ALD.</div> ----------------------------\n",
      "None https://patents.google.com/patent/US8663735B2/en <div class=\"abstract\" num=\"p-0001\">Apparatus and method for generating ruthenium tetraoxide in situ for use in vapor deposition, e.g., atomic layer deposition (ALD), of ruthenium-containing films on microelectronic device substrates. The ruthenium tetraoxide can be generated on demand by reaction of ruthenium or ruthenium dioxide with an oxic gas such as oxygen or ozone. In one implementation, ruthenium tetraoxide thus generated is utilized with a strontium organometallic precursor for atomic layer deposition of strontium ruthenate films of extremely high smoothness and purity.</div> ----------------------------\n",
      "None https://patents.google.com/patent/US8357614B2/en <div class=\"abstract\" num=\"p-0001\">Disclosed are ruthenium-containing precursors and methods of using the same in CVD and ALD.</div> ----------------------------\n",
      "None https://patents.google.com/patent/EP1887102A1/en <div class=\"abstract\" num=\"pa01\">Ruthenium containing precursors for ruthenium containing films deposition comprising a ruthenium precursor selected from the group consisting of: Ru(XOp)(XCp), Ru(XOp)<sub>2</sub>, Ru(allyl)<sub>3</sub>, RuX(allyl)<sub>2</sub>, RuX<sub>2</sub>(allyl)<sub>2</sub>, Ru(CO)<sub>X</sub>(amidinate)<sub>Y</sub>, Ru(diketonate)<sub>2</sub>X<sub>2</sub>, Ru(diketonate)<sub>2</sub>(amidinate)<sub>2</sub>, their derivatives and any mixture thereof.</div> ----------------------------\n",
      "None https://patents.google.com/patent/US20080107812A1/en <div class=\"abstract\" id=\"p-0001\" num=\"0000\">Ruthenium containing precursors for ruthenium containing films deposition comprising a ruthenium precursor selected from the group essentially consisting of Ru(XOp)(XCp), Ru(XOp)<sub>2</sub>, Ru(allyl)<sub>3</sub>, RuX(allyl)<sub>2</sub>, RuX<sub>2</sub>(allyl)<sub>2</sub>, Ru(CO)<sub>x</sub>(amidinate)<sub>y</sub>, Ru(diketonate)<sub>2</sub>X<sub>2 </sub>Ru(diketonate)<sub>2 </sub>(amidinate)<sub>2</sub>, their derivatives, and any mixture thereof. </div> ----------------------------\n",
      "None https://patents.google.com/patent/US7807223B2/en <div class=\"abstract\" num=\"p-0001\">Ruthenium containing precursors for ruthenium containing films deposition comprising a ruthenium precursor selected from the group essentially consisting of Ru(XOp)(XCp), Ru(XOp)<sub>2</sub>, Ru(allyl)<sub>3</sub>, RuX(allyl)<sub>2</sub>, RuX<sub>2</sub>(allyl)<sub>2</sub>, Ru(CO)<sub>x</sub>(amidinate)<sub>y</sub>, Ru(diketonate)<sub>2</sub>X<sub>2</sub>Ru(diketonate)<sub>2</sub>(amidinate)<sub>2</sub>, their derivatives, and any mixture thereof.</div> ----------------------------\n",
      "None https://patents.google.com/patent/KR20140131219A/en <div class=\"abstract\">The present invention relates to a ruthenium precursor represented by Chemical formula 1. The ruthenium precursor: has excellent thermal stability and increased volatility; does not use oxygen during a thin film deposition process; and thus can form a ruthenium thin film with high quality. In Chemical formula 1, R1 to R16 are independently hydrogen; otherwise, R1 to R16 are independently linear alkyl groups or branched alkyl groups.</div> ----------------------------\n",
      "None https://patents.google.com/patent/JP2008069453A/en <div class=\"abstract\">&lt;P&gt;PROBLEM TO BE SOLVED: To provide ruthenium precursors solving such a problem that: the conventional ruthenium film has poor adhesion to a substrate; impurities increasing the resistivity of the film remains in the film; the ruthenium precursor has low vapor pressure; an underlying layer is partially oxidized when oxygen is used as a co-reactant; and so on.  &lt;P&gt;SOLUTION: Ruthenium-containing precursors for ruthenium-containing films deposition comprises a ruthenium precursor selected from the group consisting mainly of: Ru(XOp)(XCp), Ru(XOp)&lt;SB&gt;2&lt;/SB&gt;, Ru(allyl)&lt;SB&gt;3&lt;/SB&gt;, RuX(allyl)&lt;SB&gt;2&lt;/SB&gt;, RuX&lt;SB&gt;2&lt;/SB&gt;(allyl)&lt;SB&gt;2&lt;/SB&gt;, Ru(CO)&lt;SB&gt;x&lt;/SB&gt;(amidinate)&lt;SB&gt;y&lt;/SB&gt;, Ru(diketonate)&lt;SB&gt;2&lt;/SB&gt;(amidinate)&lt;SB&gt;2&lt;/SB&gt;, their derivatives and any mixture thereof.  &lt;P&gt;COPYRIGHT: (C)2008,JPO&amp;INPIT  </div> ----------------------------\n",
      "None https://patents.google.com/patent/KR20080013802A/en <div class=\"abstract\">Ruthenium precursors for ruthenium-containing film deposition selected from the group comprising Ru(XOp)(XCp), Ru(XOp)2, Ru(allyl)3, RuX(allyl)2, RuX2(allyl)2, Ru(CO)x(amidinate)Y, Ru(diketonate)2X2, Ru(diketonate)2(amidinate)2, their derivatives and any mixture thereof are provided to solve several problems generated when depositing a Ru or RuO2 layer or film on a substrate. Ruthenium containing precursors for ruthenium-containing films deposition comprises a ruthenium precursor selected from the group essentially consisting of Ru(XOp)(XCp), Ru(XOp)2, Ru(allyl)3, RuX(allyl)2, RuX2(allyl)2, Ru(CO)x(amidinate)Y, Ru(diketonate)2X2 Ru(diketonate)2(amidinate)2, their derivatives and any mixture thereof. As a method for depositing a ruthenium-containing film onto a substrate in a reactor, the method comprises the steps of: providing a substrate into the reactor preferably at reaction temperature; introducing at least one ruthenium-containing precursor into the reactor; introducing into the reactor a gas mixture comprising hydrogen and/or oxygen; reacting the ruthenium-containing precursor with the gas or gas mixture to deposit a ruthenium-containing film onto the substrate.</div> ----------------------------\n",
      "None https://patents.google.com/patent/CN101122010A/en <div class=\"abstract\">Ruthenium containing precursors for ruthenium containing films deposition comprising a ruthenium precursor selected from the group consisting of: Ru(XOp)(XCp), Ru(XOp) 2 , Ru(allyl) 3 , RuX(allyl) 2 , RuX 2 (allyl) 2 , Ru(CO) X (amidinate) Y , Ru(diketonate) 2 X 2 , Ru(diketonate) 2 (amidinate) 2 , their derivatives and any mixture thereof.</div> ----------------------------\n",
      "None https://patents.google.com/patent/WO2009146423A1/en <div class=\"abstract\">A method of forming ruthenium-containing films by atomic layer deposition is provided. The method comprises delivering at least one precursor to a substrate, the at least one precursor corresponding in structure to Formula I: (L)Ru(CO)<sub>3</sub> wherein L is selected from the group consisting of a linear or branched C<sub>2</sub>-C<sub>6</sub>-alkenyl and a linear or branched C<sub>1</sub>-<sub>6</sub>-alkyl; and wherein L is optionally substituted with one or more substituents independently selected from the group consisting of C<sub>2</sub>-C<sub>6</sub>-alkenyl, C<sub>1</sub>-<sub>6</sub>-alkyl, alkoxy and NR<sup>1</sup>R<sup>2</sup>; wherein R<sup>1</sup> and R<sup>2</sup> are independently alkyl or hydrogen.</div> ----------------------------\n",
      "None https://patents.google.com/patent/US8753718B2/en <div class=\"abstract\" num=\"p-0001\">The invention concerns the use of the ruthenium-containing precursor having the formula\n",
      "<br/>\n",
      "(R<sub>n</sub>-chd)Ru(CO)<sub>3</sub>,\n",
      "<br/>\n",
      "wherein:\n",
      "</div> ----------------------------\n",
      "None https://patents.google.com/patent/US20110165780A1/en <div class=\"abstract\" id=\"p-0001\" num=\"0000\">A method of forming ruthenium-containing films by atomic layer deposition is provided. The method comprises delivering at least one precursor to a substrate, the at least one precursor corresponding in structure to Formula I: (L)Ru(CO)<sub>3 </sub>wherein L is selected from the group consisting of a linear or branched C<sub>2</sub>-C<sub>6</sub>-alkenyl and a linear or branched C<sub>1-6</sub>-alkyl; and wherein L is optionally substituted with one or more substituents independently selected from the group consisting of C<sub>2</sub>-C<sub>6</sub>-alkenyl, C<sub>1-6</sub>-alkyl, alkoxy and NR<sup>1</sup>R<sup>2</sup>; wherein R<sup>1 </sup>and R<sup>2 </sup>are independently alkyl or hydrogen.</div> ----------------------------\n",
      "None https://patents.google.com/patent/US8404306B2/en <div class=\"abstract\" id=\"p-0001\" num=\"0000\">The invention concerns the use of the ruthenium containing precursor having the formula\n",
      "<br/>\n",
      "(R<sub>n</sub>-chd)Ru(CO)<sub>3</sub>,\n",
      "<br/>\n",
      "wherein:\n",
      "</div> ----------------------------\n",
      "None https://patents.google.com/patent/WO2020101974A1/en <div class=\"abstract\" num=\"0000\">Plasma enhanced atomic layer deposition (PEALD) processes which use a ruthenium precursor of formula R<sup>A</sup>R<sup>B</sup>Ru(0), wherein R<sup>A</sup> is an aryl group-containing ligand, and R<sup>B</sup> is a diene group-containing ligand, along with a reducing plasma applied at greater than 200W are described. Use of the R<sup>A</sup>R<sup>B</sup>Ru(0) ruthenium precursors in PEALD with +200W reducing plasma such as ammonia plasma, can provide very good rates of deposition of Ru, have lower carbon and less resistivity, and provide very dense Ru films. The method can be used to form well-formed Ru film with high conformality on integrated circuits and other microelectronic devices.</div> ----------------------------\n",
      "None https://patents.google.com/patent/US9416443B2/en <div class=\"abstract\" id=\"p-0001\" num=\"0000\">The invention concerns the use of ruthenium containing precursors having the formula (1) wherein R1, R2 . . . R10 are independently selected from H, C1-C4 linear, branched, or cyclic alkyl group, C1-C4 linear, branched, or cyclic alkylsilyl group (mono, bis, or trisalkyl), C1-C4 linear, branched, or cyclic alkylamino group, or a C1-C4 linear, branched, or cyclic fluoroalkyl group (totally fluorinated or not); for the deposition of a Ru containing film on a substrate.</div> ----------------------------\n",
      "None https://patents.google.com/patent/WO2000012776A1/en <div class=\"abstract\">A method is provided for forming a film (18) of ruthenium or ruthenium oxide on the surface of a substrate (6) by employing the techniques of chemical vapor deposition to decompose precursors of ruthenium having the formula: LyRuXz where L is a neutral or monoanionic ligand selected from the group consisting essentially of linear, branched, or cyclic hydrocarbyls, cyclic alkenes, dienes, cyclic dienes, trienes, cyclic trienes, bicyclic alkenes, bicyclic trienes, tricyclic alkenes, tricyclic dienes, tricyclic trienes; fluorinated derivatives thereof; derivatives thereof additionally containing heteroatoms such as halide, Si, S, Se, P, As, N or O; and combinations thereof; where X is a pi-bonding ligand selected from the group consisting of CO, NO, CN, CS, nitriles, isonitriles, trialkylphosphines, trialkylphosphites, trialkylamines, and isocyanide, and where subscripts y and z have a value from 1 to three 3; or L1Ru(CO)4 where L is a neutral or monoanionic ligand selected from the group including linear, branched, or cyclic hydrocarbyls, cyclic alkenes, dienes, cyclic dienes, trienes, cyclic trienes, bicyclic dienes, and bicyclic trienes.</div> ----------------------------\n",
      "None https://patents.google.com/patent/WO2022243274A1/en <div class=\"abstract\">The disclosed and claimed subject matter relates to the use of Ru(I) precursors in ALD or ALD-like processes for the selective deposition of Ru films.</div> ----------------------------\n",
      "None https://patents.google.com/patent/TW200951241A/en <div class=\"abstract\">A method of forming ruthenium-containing films by atomic layer deposition is provided. The method comprises delivering at least one precursor to a substrate, the at least one precursor corresponding in structure to Formula I: (L)Ru(CO)3 (Formula I) wherein: L is an alkenyl or alkyl optionally substituted with one or more substituents independently selected from the group consisting of alkyl, alkenyl, alkoxy and NR1R2; and R1 and R2 are independently hydrogen or alkyl.</div> ----------------------------\n",
      "None https://patents.google.com/patent/WO2008034468A1/en <div class=\"abstract\">The invention concerns the use of the ruthenium containing precursor having the formula (Rn-chd) Ru(CO)3, wherein: - (Rn-chd) represents a cyclohexadiene (chd) ligand substituted with n substituents R, any R being in any position on the chd ligand; - n is an integer comprised between 1 and 8 (1 â¤ n â¤ 8) and represents the number of substituents on the chd ligand; - R is selected from the group consisting of C1-C4 linear or branched alkyls, alkylamides, alkoxides, alkylsilylamides, amidinates, carbonyl and/or fluoroalkyl for R being located in any of the eight avalaible position on the chd ligand, while R can also be oxygen O for substitution on the C positions in the chd cycle which are not involved in a double bond for the deposition of a Ru containing film on a substrate.</div> ----------------------------\n",
      "None https://patents.google.com/patent/KR20150101380A/en <div class=\"abstract\">A method for forming a ruthenium thin film by atomic layer deposition according to an embodiment of the present invention includes the following steps: supplying a precursor containing ruthenium to a substrate in a chamber; purging the precursor containing ruthenium from the chamber; supplying reaction gas to the substrate; and purging the reaction gas from the chamber. The reaction gas is reduction gas reducing the precursor containing ruthenium, and the formed ruthenium thin film has a crystalline structure.</div> ----------------------------\n",
      "None https://patents.google.com/patent/US20130089680A1/en <div class=\"abstract\" id=\"p-0001\" num=\"0000\">The present invention relates to a process for the use of Ruthenium amidinate metal precursors for the deposition of Ruthenium-containing films via Plasma Enhanced Atomic Layer Deposition (PEALD) or Plasma Enhanced Chemical Vapor Deposition (PECVD).</div> ----------------------------\n",
      "None https://patents.google.com/patent/KR20110014191A/en None ----------------------------\n",
      "None https://patents.google.com/patent/WO2018191183A1/en <div class=\"abstract\" num=\"0000\">Provided herein are low resistance metallization stack structures for logic and memory applications and related methods of fabrication. In some implementations, the methods involve providing a tungsten (W)-containing layer on a substrate; and depositing a molybdenum (Mo)-containing layer on the W-containing layer. In some implementations, the methods involve depositing a Mo-containing layer directly on a dielectric or titanium nitride (TiN) substrate without an intervening W-containing layer.</div> ----------------------------\n",
      "None https://patents.google.com/patent/US9536940B2/en <div class=\"abstract\" id=\"p-0001\" num=\"0000\">A method of forming a semiconductor structure. The method comprises forming a high-k dielectric material, forming a continuous interfacial material over the high-k dielectric material, and forming a conductive material over the continuous interfacial material. Additional methods and semiconductor structures are also disclosed.</div> ----------------------------\n",
      "None https://patents.google.com/patent/US20100018439A1/en <div class=\"abstract\" id=\"p-0001\" num=\"0000\">Precursors useful for vapor phase deposition processes, e.g., CVD/ALD, to form metal-containing films on substrates. The precursors include, in one class, a central metal atom M to which is coordinated at least one ligand of formula (I):</div> ----------------------------\n",
      "None https://patents.google.com/patent/WO2017143246A1/en <div class=\"abstract\" num=\"0000\">Transition metal precursors are disclosed herein along with methods of using these precursors to deposit metal thin films. Advantageous properties of these precursors and methods are also disclosed, as well as superior films that can be achieved with the precursors and methods.</div> ----------------------------\n",
      "None https://patents.google.com/patent/KR20070065376A/en <div class=\"abstract\">Precursor for ruthenium film deposition, comprising ruthenium tetroxide dissolved in at least one non-flammable solvent, preferably a fluorinated solvent having the general formula CxHyFzOtNu wherein: 2x+2y and t+u&gt;=1 (t+u preferably equal to 1) x, y, z, t and u being positive integers.</div> ----------------------------\n",
      "None https://patents.google.com/patent/KR101244972B1/en None ----------------------------\n"
     ]
    },
    {
     "ename": "IndexError",
     "evalue": "list index out of range",
     "output_type": "error",
     "traceback": [
      "\u001b[1;31m---------------------------------------------------------------------------\u001b[0m",
      "\u001b[1;31mIndexError\u001b[0m                                Traceback (most recent call last)",
      "\u001b[1;32m~\\AppData\\Local\\Temp\\ipykernel_21052\\1231606943.py\u001b[0m in \u001b[0;36m<module>\u001b[1;34m\u001b[0m\n\u001b[0;32m     17\u001b[0m \u001b[1;33m\u001b[0m\u001b[0m\n\u001b[0;32m     18\u001b[0m \u001b[1;32mfor\u001b[0m \u001b[0mx\u001b[0m \u001b[1;32min\u001b[0m \u001b[0mrange\u001b[0m\u001b[1;33m(\u001b[0m\u001b[1;36m0\u001b[0m\u001b[1;33m,\u001b[0m\u001b[0mn\u001b[0m\u001b[1;33m+\u001b[0m\u001b[1;36m1\u001b[0m\u001b[1;33m)\u001b[0m\u001b[1;33m:\u001b[0m \u001b[1;31m#creating a list of total number of index positions\u001b[0m\u001b[1;33m\u001b[0m\u001b[1;33m\u001b[0m\u001b[0m\n\u001b[1;32m---> 19\u001b[1;33m     \u001b[0minnerpage\u001b[0m\u001b[1;33m=\u001b[0m\u001b[0mrequests\u001b[0m\u001b[1;33m.\u001b[0m\u001b[0mget\u001b[0m\u001b[1;33m(\u001b[0m\u001b[0mlinks\u001b[0m\u001b[1;33m[\u001b[0m\u001b[0mx\u001b[0m\u001b[1;33m]\u001b[0m\u001b[1;33m)\u001b[0m\u001b[1;31m#entering into respective url\u001b[0m\u001b[1;33m\u001b[0m\u001b[1;33m\u001b[0m\u001b[0m\n\u001b[0m\u001b[0;32m     20\u001b[0m     \u001b[0msoup1\u001b[0m\u001b[1;33m=\u001b[0m\u001b[0mBeautifulSoup\u001b[0m\u001b[1;33m(\u001b[0m\u001b[0minnerpage\u001b[0m\u001b[1;33m.\u001b[0m\u001b[0mtext\u001b[0m\u001b[1;33m,\u001b[0m\u001b[1;34m'html.parser'\u001b[0m\u001b[1;33m)\u001b[0m \u001b[1;31m#parsing html content of link(x)\u001b[0m\u001b[1;33m\u001b[0m\u001b[1;33m\u001b[0m\u001b[0m\n\u001b[0;32m     21\u001b[0m     \u001b[0mprint\u001b[0m\u001b[1;33m(\u001b[0m\u001b[1;33m(\u001b[0m\u001b[0msoup1\u001b[0m\u001b[1;33m.\u001b[0m\u001b[0mfind\u001b[0m\u001b[1;33m(\u001b[0m\u001b[1;34m\"div\"\u001b[0m\u001b[1;33m,\u001b[0m\u001b[1;34m\"title\"\u001b[0m\u001b[1;33m)\u001b[0m\u001b[1;33m)\u001b[0m\u001b[1;33m,\u001b[0m\u001b[0mlinks\u001b[0m\u001b[1;33m[\u001b[0m\u001b[0mx\u001b[0m\u001b[1;33m]\u001b[0m\u001b[1;33m,\u001b[0m\u001b[1;33m(\u001b[0m\u001b[0msoup1\u001b[0m\u001b[1;33m.\u001b[0m\u001b[0mfind\u001b[0m\u001b[1;33m(\u001b[0m\u001b[1;34m\"div\"\u001b[0m\u001b[1;33m,\u001b[0m\u001b[1;34m\"abstract\"\u001b[0m\u001b[1;33m)\u001b[0m\u001b[1;33m)\u001b[0m\u001b[1;33m,\u001b[0m\u001b[1;34m\"----------------------------\"\u001b[0m\u001b[1;33m)\u001b[0m\u001b[1;33m\u001b[0m\u001b[1;33m\u001b[0m\u001b[0m\n",
      "\u001b[1;31mIndexError\u001b[0m: list index out of range"
     ]
    }
   ],
   "source": [
    "import requests\n",
    "from bs4 import BeautifulSoup\n",
    "from duckduckgo_search import ddg\n",
    "\n",
    "results=ddg(\"site:patents.google.com Ru-containing precursors AND DRAM\" )\n",
    "# print (results)\n",
    "\n",
    "links = []\n",
    "\n",
    "for every_dict in results:\n",
    "    href = every_dict['href']   \n",
    "    links.append(href)                    \n",
    "                         \n",
    "#print(Links)\n",
    "n=len(links)\n",
    "print(n)\n",
    "\n",
    "for x in range(0,n+1): #creating a list of total number of index positions\n",
    "    innerpage=requests.get(links[x])#entering into respective url\n",
    "    soup1=BeautifulSoup(innerpage.text,'html.parser') #parsing html content of link(x) \n",
    "    print((soup1.find(\"div\",\"title\")),links[x],(soup1.find(\"div\",\"abstract\")),\"----------------------------\")\n",
    "\n",
    "   "
   ]
  }
 ],
 "metadata": {
  "kernelspec": {
   "display_name": "Python 3 (ipykernel)",
   "language": "python",
   "name": "python3"
  },
  "language_info": {
   "codemirror_mode": {
    "name": "ipython",
    "version": 3
   },
   "file_extension": ".py",
   "mimetype": "text/x-python",
   "name": "python",
   "nbconvert_exporter": "python",
   "pygments_lexer": "ipython3",
   "version": "3.9.13"
  }
 },
 "nbformat": 4,
 "nbformat_minor": 5
}
